{
  "nbformat": 4,
  "nbformat_minor": 0,
  "metadata": {
    "colab": {
      "name": "depression.ipynb",
      "provenance": []
    },
    "kernelspec": {
      "name": "python3",
      "display_name": "Python 3"
    },
    "language_info": {
      "name": "python"
    }
  },
  "cells": [
    {
      "cell_type": "code",
      "execution_count": null,
      "metadata": {
        "id": "IBkPfFibAhAa",
        "colab": {
          "base_uri": "https://localhost:8080/"
        },
        "outputId": "2d366492-dde4-4288-c566-d51ca31517ac"
      },
      "outputs": [
        {
          "output_type": "stream",
          "name": "stdout",
          "text": [
            "Mounted at /content/drive\n"
          ]
        }
      ],
      "source": [
        "from google.colab import drive\n",
        "drive.mount('/content/drive')\n"
      ]
    },
    {
      "cell_type": "code",
      "source": [
        "import pandas as pd\n",
        "import numpy as np\n"
      ],
      "metadata": {
        "id": "8dmbHd2aBDg_"
      },
      "execution_count": null,
      "outputs": []
    },
    {
      "cell_type": "code",
      "source": [
        "!unzip \"/content/drive/My Drive/DEP_TRAINING DATASET.zip\"\n",
        "!unzip \"/content/drive/My Drive/DEP_VALIDATION DATASET.zip\"\n",
        "!unzip \"/content/drive/My Drive/DEP_TEST DATASET.zip\""
      ],
      "metadata": {
        "id": "oV-SX90S_8ZB",
        "colab": {
          "base_uri": "https://localhost:8080/"
        },
        "outputId": "dcf9ba05-89b6-4be4-d1cf-b1e7a42bf8d0"
      },
      "execution_count": null,
      "outputs": [
        {
          "output_type": "stream",
          "name": "stdout",
          "text": [
            "Archive:  /content/drive/My Drive/DEP_TRAINING DATASET.zip\n",
            "   creating: DEP_TRAINING DATASET/\n",
            "  inflating: DEP_TRAINING DATASET/.DS_Store  \n",
            "  inflating: __MACOSX/DEP_TRAINING DATASET/._.DS_Store  \n",
            "   creating: DEP_TRAINING DATASET/CONDITION/\n",
            "   creating: DEP_TRAINING DATASET/CONTROL/\n",
            "  inflating: DEP_TRAINING DATASET/CONDITION/cond9.png  \n",
            "  inflating: __MACOSX/DEP_TRAINING DATASET/CONDITION/._cond9.png  \n",
            "  inflating: DEP_TRAINING DATASET/CONDITION/cond8.png  \n",
            "  inflating: __MACOSX/DEP_TRAINING DATASET/CONDITION/._cond8.png  \n",
            "  inflating: DEP_TRAINING DATASET/CONDITION/.DS_Store  \n",
            "  inflating: __MACOSX/DEP_TRAINING DATASET/CONDITION/._.DS_Store  \n",
            "  inflating: DEP_TRAINING DATASET/CONDITION/cond18.png  \n",
            "  inflating: __MACOSX/DEP_TRAINING DATASET/CONDITION/._cond18.png  \n",
            "  inflating: DEP_TRAINING DATASET/CONDITION/cond21.png  \n",
            "  inflating: __MACOSX/DEP_TRAINING DATASET/CONDITION/._cond21.png  \n",
            "  inflating: DEP_TRAINING DATASET/CONDITION/cond20.png  \n",
            "  inflating: __MACOSX/DEP_TRAINING DATASET/CONDITION/._cond20.png  \n",
            "  inflating: DEP_TRAINING DATASET/CONDITION/cond12.png  \n",
            "  inflating: __MACOSX/DEP_TRAINING DATASET/CONDITION/._cond12.png  \n",
            "  inflating: DEP_TRAINING DATASET/CONDITION/cond10.png  \n",
            "  inflating: __MACOSX/DEP_TRAINING DATASET/CONDITION/._cond10.png  \n",
            "  inflating: DEP_TRAINING DATASET/CONDITION/cond15.png  \n",
            "  inflating: __MACOSX/DEP_TRAINING DATASET/CONDITION/._cond15.png  \n",
            "  inflating: DEP_TRAINING DATASET/CONDITION/cond17.png  \n",
            "  inflating: __MACOSX/DEP_TRAINING DATASET/CONDITION/._cond17.png  \n",
            "  inflating: DEP_TRAINING DATASET/CONDITION/cond2.png  \n",
            "  inflating: __MACOSX/DEP_TRAINING DATASET/CONDITION/._cond2.png  \n",
            "  inflating: DEP_TRAINING DATASET/CONDITION/cond1.png  \n",
            "  inflating: __MACOSX/DEP_TRAINING DATASET/CONDITION/._cond1.png  \n",
            "  inflating: DEP_TRAINING DATASET/CONDITION/cond5.png  \n",
            "  inflating: __MACOSX/DEP_TRAINING DATASET/CONDITION/._cond5.png  \n",
            "  inflating: DEP_TRAINING DATASET/CONDITION/cond4.png  \n",
            "  inflating: __MACOSX/DEP_TRAINING DATASET/CONDITION/._cond4.png  \n",
            "  inflating: DEP_TRAINING DATASET/CONTROL/cont10.png  \n",
            "  inflating: __MACOSX/DEP_TRAINING DATASET/CONTROL/._cont10.png  \n",
            "  inflating: DEP_TRAINING DATASET/CONTROL/cont15.png  \n",
            "  inflating: __MACOSX/DEP_TRAINING DATASET/CONTROL/._cont15.png  \n",
            "  inflating: DEP_TRAINING DATASET/CONTROL/.DS_Store  \n",
            "  inflating: __MACOSX/DEP_TRAINING DATASET/CONTROL/._.DS_Store  \n",
            "  inflating: DEP_TRAINING DATASET/CONTROL/cont17.png  \n",
            "  inflating: __MACOSX/DEP_TRAINING DATASET/CONTROL/._cont17.png  \n",
            "  inflating: DEP_TRAINING DATASET/CONTROL/cont4.png  \n",
            "  inflating: __MACOSX/DEP_TRAINING DATASET/CONTROL/._cont4.png  \n",
            "  inflating: DEP_TRAINING DATASET/CONTROL/cont7.png  \n",
            "  inflating: __MACOSX/DEP_TRAINING DATASET/CONTROL/._cont7.png  \n",
            "  inflating: DEP_TRAINING DATASET/CONTROL/cont6.png  \n",
            "  inflating: __MACOSX/DEP_TRAINING DATASET/CONTROL/._cont6.png  \n",
            "  inflating: DEP_TRAINING DATASET/CONTROL/cont2.png  \n",
            "  inflating: __MACOSX/DEP_TRAINING DATASET/CONTROL/._cont2.png  \n",
            "  inflating: DEP_TRAINING DATASET/CONTROL/cont3.png  \n",
            "  inflating: __MACOSX/DEP_TRAINING DATASET/CONTROL/._cont3.png  \n",
            "  inflating: DEP_TRAINING DATASET/CONTROL/cont1.png  \n",
            "  inflating: __MACOSX/DEP_TRAINING DATASET/CONTROL/._cont1.png  \n",
            "  inflating: DEP_TRAINING DATASET/CONTROL/cont8.png  \n",
            "  inflating: __MACOSX/DEP_TRAINING DATASET/CONTROL/._cont8.png  \n",
            "  inflating: DEP_TRAINING DATASET/CONTROL/cont9.png  \n",
            "  inflating: __MACOSX/DEP_TRAINING DATASET/CONTROL/._cont9.png  \n",
            "  inflating: DEP_TRAINING DATASET/CONTROL/cont18.png  \n",
            "  inflating: __MACOSX/DEP_TRAINING DATASET/CONTROL/._cont18.png  \n",
            "  inflating: DEP_TRAINING DATASET/CONTROL/cont20.png  \n",
            "  inflating: __MACOSX/DEP_TRAINING DATASET/CONTROL/._cont20.png  \n",
            "Archive:  /content/drive/My Drive/DEP_VALIDATION DATASET.zip\n",
            "   creating: DEP_VALIDATION DATASET/\n",
            "  inflating: DEP_VALIDATION DATASET/.DS_Store  \n",
            "  inflating: __MACOSX/DEP_VALIDATION DATASET/._.DS_Store  \n",
            "   creating: DEP_VALIDATION DATASET/CONDITION/\n",
            "   creating: DEP_VALIDATION DATASET/CONTROL/\n",
            "  inflating: DEP_VALIDATION DATASET/CONDITION/cond8.png  \n",
            "  inflating: __MACOSX/DEP_VALIDATION DATASET/CONDITION/._cond8.png  \n",
            "  inflating: DEP_VALIDATION DATASET/CONDITION/.DS_Store  \n",
            "  inflating: __MACOSX/DEP_VALIDATION DATASET/CONDITION/._.DS_Store  \n",
            "  inflating: DEP_VALIDATION DATASET/CONDITION/cond13.png  \n",
            "  inflating: __MACOSX/DEP_VALIDATION DATASET/CONDITION/._cond13.png  \n",
            "  inflating: DEP_VALIDATION DATASET/CONDITION/cond11.png  \n",
            "  inflating: __MACOSX/DEP_VALIDATION DATASET/CONDITION/._cond11.png  \n",
            "  inflating: DEP_VALIDATION DATASET/CONDITION/cond14.png  \n",
            "  inflating: __MACOSX/DEP_VALIDATION DATASET/CONDITION/._cond14.png  \n",
            "  inflating: DEP_VALIDATION DATASET/CONDITION/cond16.png  \n",
            "  inflating: __MACOSX/DEP_VALIDATION DATASET/CONDITION/._cond16.png  \n",
            "  inflating: DEP_VALIDATION DATASET/CONDITION/cond3.png  \n",
            "  inflating: __MACOSX/DEP_VALIDATION DATASET/CONDITION/._cond3.png  \n",
            "  inflating: DEP_VALIDATION DATASET/CONTROL/cont13.png  \n",
            "  inflating: __MACOSX/DEP_VALIDATION DATASET/CONTROL/._cont13.png  \n",
            "  inflating: DEP_VALIDATION DATASET/CONTROL/cont11.png  \n",
            "  inflating: __MACOSX/DEP_VALIDATION DATASET/CONTROL/._cont11.png  \n",
            "  inflating: DEP_VALIDATION DATASET/CONTROL/.DS_Store  \n",
            "  inflating: __MACOSX/DEP_VALIDATION DATASET/CONTROL/._.DS_Store  \n",
            "  inflating: DEP_VALIDATION DATASET/CONTROL/cont14.png  \n",
            "  inflating: __MACOSX/DEP_VALIDATION DATASET/CONTROL/._cont14.png  \n",
            "  inflating: DEP_VALIDATION DATASET/CONTROL/cont16.png  \n",
            "  inflating: __MACOSX/DEP_VALIDATION DATASET/CONTROL/._cont16.png  \n",
            "  inflating: DEP_VALIDATION DATASET/CONTROL/cont3.png  \n",
            "  inflating: __MACOSX/DEP_VALIDATION DATASET/CONTROL/._cont3.png  \n",
            "  inflating: DEP_VALIDATION DATASET/CONTROL/cont8.png  \n",
            "  inflating: __MACOSX/DEP_VALIDATION DATASET/CONTROL/._cont8.png  \n",
            "Archive:  /content/drive/My Drive/DEP_TEST DATASET.zip\n",
            "   creating: DEP_TEST DATASET/\n",
            "  inflating: DEP_TEST DATASET/.DS_Store  \n",
            "  inflating: __MACOSX/DEP_TEST DATASET/._.DS_Store  \n",
            "   creating: DEP_TEST DATASET/CONDITION/\n",
            "   creating: DEP_TEST DATASET/CONTROL/\n",
            "  inflating: DEP_TEST DATASET/CONDITION/cond19.png  \n",
            "  inflating: __MACOSX/DEP_TEST DATASET/CONDITION/._cond19.png  \n",
            "  inflating: DEP_TEST DATASET/CONDITION/cond12.png  \n",
            "  inflating: __MACOSX/DEP_TEST DATASET/CONDITION/._cond12.png  \n",
            "  inflating: DEP_TEST DATASET/CONTROL/cont12.png  \n",
            "  inflating: __MACOSX/DEP_TEST DATASET/CONTROL/._cont12.png  \n",
            "  inflating: DEP_TEST DATASET/CONTROL/.DS_Store  \n",
            "  inflating: __MACOSX/DEP_TEST DATASET/CONTROL/._.DS_Store  \n",
            "  inflating: DEP_TEST DATASET/CONTROL/cont19.png  \n",
            "  inflating: __MACOSX/DEP_TEST DATASET/CONTROL/._cont19.png  \n",
            "  inflating: DEP_TEST DATASET/CONTROL/cont21.png  \n",
            "  inflating: __MACOSX/DEP_TEST DATASET/CONTROL/._cont21.png  \n"
          ]
        }
      ]
    },
    {
      "cell_type": "code",
      "source": [
        "import tensorflow as tf\n",
        "import numpy as np\n",
        "import matplotlib.pyplot as plt\n",
        "import cv2\n",
        "import os\n",
        "from tensorflow.keras.preprocessing.image import ImageDataGenerator\n",
        "from tensorflow.keras.optimizers import RMSprop"
      ],
      "metadata": {
        "id": "8zKQ0gCllr4V"
      },
      "execution_count": null,
      "outputs": []
    },
    {
      "cell_type": "code",
      "source": [
        "train=ImageDataGenerator(rescale=1/255)\n",
        "train_dataset=train.flow_from_directory(\"DEP_TRAINING DATASET\",target_size=(200,200),color_mode=\"grayscale\")\n",
        "Valid=ImageDataGenerator(rescale=1/255)\n",
        "Valid_dataset=Valid.flow_from_directory(\"DEP_VALIDATION DATASET\",target_size=(200,200),color_mode=\"grayscale\")"
      ],
      "metadata": {
        "colab": {
          "base_uri": "https://localhost:8080/"
        },
        "id": "aBHPakWWneox",
        "outputId": "ea684b38-6e4c-46b2-a44b-011591acb83c"
      },
      "execution_count": null,
      "outputs": [
        {
          "output_type": "stream",
          "name": "stdout",
          "text": [
            "Found 26 images belonging to 2 classes.\n",
            "Found 12 images belonging to 2 classes.\n"
          ]
        }
      ]
    },
    {
      "cell_type": "markdown",
      "source": [
        "**LeNet**"
      ],
      "metadata": {
        "id": "TfMECfhtvGYG"
      }
    },
    {
      "cell_type": "code",
      "source": [
        "from tensorflow import keras\n",
        "from keras import optimizers\n",
        "from tensorflow.keras import optimizers\n",
        "import keras\n",
        "import keras.utils\n",
        "from keras import utils as np_utils\n",
        "import tensorflow as tf\n",
        "from tensorflow.keras import Model\n",
        "from tensorflow.keras.models import Sequential\n",
        "from tensorflow.keras.layers import Dense, Flatten, Conv2D, AveragePooling2D\n"
      ],
      "metadata": {
        "id": "kW9jH4xrE6Wd"
      },
      "execution_count": null,
      "outputs": []
    },
    {
      "cell_type": "code",
      "source": [
        "model = Sequential()\n",
        "model.add(Conv2D(filters=6, kernel_size=(3, 3), activation='tanh', input_shape=(200,200,1)))\n",
        "model.add(AveragePooling2D())\n",
        "model.add(Conv2D(filters=16, kernel_size=(3, 3), activation='tanh'))\n",
        "model.add(AveragePooling2D())\n",
        "model.add(Flatten())\n",
        "model.add(Dense(units=128, activation='tanh'))\n",
        "model.add(Dense(units=2, activation = 'softmax'))\n",
        "model.summary()"
      ],
      "metadata": {
        "colab": {
          "base_uri": "https://localhost:8080/"
        },
        "id": "vbaSzVgF1Ie5",
        "outputId": "d624d817-10d0-4eb8-b7d1-8dae1496c248"
      },
      "execution_count": null,
      "outputs": [
        {
          "output_type": "stream",
          "name": "stdout",
          "text": [
            "Model: \"sequential_1\"\n",
            "_________________________________________________________________\n",
            " Layer (type)                Output Shape              Param #   \n",
            "=================================================================\n",
            " conv2d_2 (Conv2D)           (None, 198, 198, 6)       60        \n",
            "                                                                 \n",
            " average_pooling2d (AverageP  (None, 99, 99, 6)        0         \n",
            " ooling2D)                                                       \n",
            "                                                                 \n",
            " conv2d_3 (Conv2D)           (None, 97, 97, 16)        880       \n",
            "                                                                 \n",
            " average_pooling2d_1 (Averag  (None, 48, 48, 16)       0         \n",
            " ePooling2D)                                                     \n",
            "                                                                 \n",
            " flatten_1 (Flatten)         (None, 36864)             0         \n",
            "                                                                 \n",
            " dense_2 (Dense)             (None, 128)               4718720   \n",
            "                                                                 \n",
            " dense_3 (Dense)             (None, 2)                 258       \n",
            "                                                                 \n",
            "=================================================================\n",
            "Total params: 4,719,918\n",
            "Trainable params: 4,719,918\n",
            "Non-trainable params: 0\n",
            "_________________________________________________________________\n"
          ]
        }
      ]
    },
    {
      "cell_type": "code",
      "source": [
        "model.compile(optimizer=RMSprop(learning_rate=0.001),\n",
        "              loss='BinaryCrossentropy',\n",
        "              metrics=['accuracy'])"
      ],
      "metadata": {
        "id": "bpQlpQExxd-y"
      },
      "execution_count": null,
      "outputs": []
    },
    {
      "cell_type": "code",
      "source": [
        "history=model.fit(train_dataset,epochs=20,validation_data=Valid_dataset)"
      ],
      "metadata": {
        "colab": {
          "base_uri": "https://localhost:8080/"
        },
        "id": "e8T0HLvl99Uv",
        "outputId": "ec7107fc-a266-4bc2-afe5-a69ca556315a"
      },
      "execution_count": null,
      "outputs": [
        {
          "output_type": "stream",
          "name": "stdout",
          "text": [
            "Epoch 1/20\n",
            "1/1 [==============================] - 6s 6s/step - loss: 0.7906 - accuracy: 0.5000 - val_loss: 3.8861 - val_accuracy: 0.5000\n",
            "Epoch 2/20\n",
            "1/1 [==============================] - 4s 4s/step - loss: 3.8861 - accuracy: 0.5000 - val_loss: 3.7052 - val_accuracy: 0.5000\n",
            "Epoch 3/20\n",
            "1/1 [==============================] - 4s 4s/step - loss: 3.7052 - accuracy: 0.5000 - val_loss: 3.5810 - val_accuracy: 0.5000\n",
            "Epoch 4/20\n",
            "1/1 [==============================] - 4s 4s/step - loss: 3.5810 - accuracy: 0.5000 - val_loss: 3.4825 - val_accuracy: 0.5000\n",
            "Epoch 5/20\n",
            "1/1 [==============================] - 4s 4s/step - loss: 3.4825 - accuracy: 0.5000 - val_loss: 3.3995 - val_accuracy: 0.5000\n",
            "Epoch 6/20\n",
            "1/1 [==============================] - 4s 4s/step - loss: 3.3995 - accuracy: 0.5000 - val_loss: 3.3273 - val_accuracy: 0.5000\n",
            "Epoch 7/20\n",
            "1/1 [==============================] - 4s 4s/step - loss: 3.3273 - accuracy: 0.5000 - val_loss: 3.2631 - val_accuracy: 0.5000\n",
            "Epoch 8/20\n",
            "1/1 [==============================] - 4s 4s/step - loss: 3.2631 - accuracy: 0.5000 - val_loss: 3.2051 - val_accuracy: 0.5000\n",
            "Epoch 9/20\n",
            "1/1 [==============================] - 4s 4s/step - loss: 3.2051 - accuracy: 0.5000 - val_loss: 3.1519 - val_accuracy: 0.5000\n",
            "Epoch 10/20\n",
            "1/1 [==============================] - 4s 4s/step - loss: 3.1519 - accuracy: 0.5000 - val_loss: 3.1026 - val_accuracy: 0.5000\n",
            "Epoch 11/20\n",
            "1/1 [==============================] - 4s 4s/step - loss: 3.1026 - accuracy: 0.5000 - val_loss: 3.0564 - val_accuracy: 0.5000\n",
            "Epoch 12/20\n",
            "1/1 [==============================] - 4s 4s/step - loss: 3.0564 - accuracy: 0.5000 - val_loss: 3.0128 - val_accuracy: 0.5000\n",
            "Epoch 13/20\n",
            "1/1 [==============================] - 4s 4s/step - loss: 3.0128 - accuracy: 0.5000 - val_loss: 2.9712 - val_accuracy: 0.5000\n",
            "Epoch 14/20\n",
            "1/1 [==============================] - 4s 4s/step - loss: 2.9712 - accuracy: 0.5000 - val_loss: 2.9313 - val_accuracy: 0.5000\n",
            "Epoch 15/20\n",
            "1/1 [==============================] - 4s 4s/step - loss: 2.9313 - accuracy: 0.5000 - val_loss: 2.8928 - val_accuracy: 0.5000\n",
            "Epoch 16/20\n",
            "1/1 [==============================] - 4s 4s/step - loss: 2.8928 - accuracy: 0.5000 - val_loss: 2.8553 - val_accuracy: 0.5000\n",
            "Epoch 17/20\n",
            "1/1 [==============================] - 4s 4s/step - loss: 2.8553 - accuracy: 0.5000 - val_loss: 2.8187 - val_accuracy: 0.5000\n",
            "Epoch 18/20\n",
            "1/1 [==============================] - 4s 4s/step - loss: 2.8187 - accuracy: 0.5000 - val_loss: 2.7827 - val_accuracy: 0.5000\n",
            "Epoch 19/20\n",
            "1/1 [==============================] - 4s 4s/step - loss: 2.7827 - accuracy: 0.5000 - val_loss: 2.7474 - val_accuracy: 0.5000\n",
            "Epoch 20/20\n",
            "1/1 [==============================] - 4s 4s/step - loss: 2.7474 - accuracy: 0.5000 - val_loss: 2.7124 - val_accuracy: 0.5000\n"
          ]
        }
      ]
    },
    {
      "cell_type": "code",
      "source": [
        "\n",
        "validation_generator = Valid.flow_from_directory(\"DEP_VALIDATION DATASET\",target_size=(200,200),color_mode=\"grayscale\")\n",
        "Y_pred = model.predict_generator(validation_generator)\n",
        "ytrue = np.argmax(Y_pred, axis=1).tolist()\n",
        "ytrue"
      ],
      "metadata": {
        "colab": {
          "base_uri": "https://localhost:8080/"
        },
        "id": "RNRi9GnsayNG",
        "outputId": "066d9b40-d046-40c5-f842-42d056f32b27"
      },
      "execution_count": null,
      "outputs": [
        {
          "output_type": "stream",
          "name": "stdout",
          "text": [
            "Found 12 images belonging to 2 classes.\n"
          ]
        },
        {
          "output_type": "stream",
          "name": "stderr",
          "text": [
            "/usr/local/lib/python3.7/dist-packages/ipykernel_launcher.py:3: UserWarning: `Model.predict_generator` is deprecated and will be removed in a future version. Please use `Model.predict`, which supports generators.\n",
            "  This is separate from the ipykernel package so we can avoid doing imports until\n"
          ]
        },
        {
          "output_type": "execute_result",
          "data": {
            "text/plain": [
              "[0, 0, 0, 0, 0, 0, 0, 0, 0, 0, 0, 0]"
            ]
          },
          "metadata": {},
          "execution_count": 39
        }
      ]
    },
    {
      "cell_type": "code",
      "source": [
        "from sklearn.metrics import confusion_matrix\n",
        "from sklearn.metrics import accuracy_score\n",
        "#print('Confusion Matrix')\n",
        "print(confusion_matrix(validation_generator.classes, ytrue))\n",
        "accuracy_score(validation_generator.classes, ytrue)"
      ],
      "metadata": {
        "colab": {
          "base_uri": "https://localhost:8080/"
        },
        "id": "1nEa6Y43b_Jb",
        "outputId": "ebab5c77-5bb1-4b64-b73e-209094b20072"
      },
      "execution_count": null,
      "outputs": [
        {
          "output_type": "stream",
          "name": "stdout",
          "text": [
            "[[6 0]\n",
            " [6 0]]\n"
          ]
        },
        {
          "output_type": "execute_result",
          "data": {
            "text/plain": [
              "0.5"
            ]
          },
          "metadata": {},
          "execution_count": 40
        }
      ]
    },
    {
      "cell_type": "code",
      "source": [
        "plt.plot(history.history['accuracy'])\n",
        "plt.plot(history.history['val_accuracy'])\n",
        "plt.title('model loss')\n",
        "plt.ylabel('accuracy')\n",
        "plt.xlabel('epoch')\n",
        "plt.legend(['train', 'test'], loc='upper left')\n",
        "plt.show()"
      ],
      "metadata": {
        "colab": {
          "base_uri": "https://localhost:8080/",
          "height": 295
        },
        "id": "WJv0EBsZ3Y7M",
        "outputId": "ba74c374-3429-46ad-fa37-6d9f4c011287"
      },
      "execution_count": null,
      "outputs": [
        {
          "output_type": "display_data",
          "data": {
            "text/plain": [
              "<Figure size 432x288 with 1 Axes>"
            ],
            "image/png": "[encoded data removed]"
          },
          "metadata": {
            "needs_background": "light"
          }
        }
      ]
    },
    {
      "cell_type": "markdown",
      "source": [
        "**ResNet**"
      ],
      "metadata": {
        "id": "EnFK9-2q3OW6"
      }
    },
    {
      "cell_type": "code",
      "source": [
        "train=ImageDataGenerator(rescale=1/255)\n",
        "train_dataset=train.flow_from_directory(\"DEP_TRAINING DATASET\",target_size=(200,200))\n",
        "Valid=ImageDataGenerator(rescale=1/255)\n",
        "Valid_dataset=Valid.flow_from_directory(\"DEP_VALIDATION DATASET\",target_size=(200,200))"
      ],
      "metadata": {
        "colab": {
          "base_uri": "https://localhost:8080/"
        },
        "id": "csPC3Iys36KQ",
        "outputId": "439b4f6d-6ed8-4db8-9561-45d2d9c8be40"
      },
      "execution_count": null,
      "outputs": [
        {
          "output_type": "stream",
          "name": "stdout",
          "text": [
            "Found 26 images belonging to 2 classes.\n",
            "Found 12 images belonging to 2 classes.\n"
          ]
        }
      ]
    },
    {
      "cell_type": "code",
      "source": [
        "import tensorflow\n",
        "from tensorflow import keras\n",
        "import tensorflow.keras.applications"
      ],
      "metadata": {
        "id": "EFR176SB7Vnl"
      },
      "execution_count": null,
      "outputs": []
    },
    {
      "cell_type": "code",
      "source": [
        "res101_layers=tensorflow.keras.applications.resnet50.ResNet50(weights='imagenet',include_top=False,input_shape=(200,200,3),pooling='max')\n",
        "\n",
        "res101_layers.summary()\n",
        "#from tensorflow.keras.callbacks import EarlyStopping\n",
        "#callback=EarlyStopping(monitor='val_loss',patience=2,restore_best_weights=True)\n",
        "\n",
        "for layer in res101_layers.layers:\n",
        "  layer.trainable=True\n",
        "\n",
        "for layer in res101_layers.layers:\n",
        "  print(layer,layer.trainable)\n",
        " \n",
        " \n",
        "model_res101=keras.models.Sequential()\n",
        "model_res101.add(res101_layers)\n",
        "model_res101.add(keras.layers.Flatten())\n",
        "model_res101.add(keras.layers.Dense(1024,activation='relu'))\n",
        "model_res101.add(keras.layers.Dropout(0.3))\n",
        "model_res101.add(keras.layers.Dense(768,activation='relu'))\n",
        "model_res101.add(keras.layers.Dropout(0.3))\n",
        "model_res101.add(keras.layers.Dense(256,activation='relu'))\n",
        "model_res101.add(keras.layers.Dropout(0.3))\n",
        "model_res101.add(keras.layers.Dense(2,activation='softmax'))\n",
        "\n",
        "model_res101.compile(optimizer=RMSprop(learning_rate=0.001),\n",
        "                loss='BinaryCrossentropy',metrics=['accuracy'])\n",
        " \n",
        "result_res101=model_res101.fit(train_dataset,validation_data=Valid_dataset,epochs=20)"
      ],
      "metadata": {
        "colab": {
          "base_uri": "https://localhost:8080/",
          "height": 1000
        },
        "id": "YhU5IOVH3tqU",
        "outputId": "bd067af4-6a33-4484-c537-e0c9ae1c51d9"
      },
      "execution_count": null,
      "outputs": [
        {
          "output_type": "stream",
          "name": "stdout",
          "text": [
            "Model: \"resnet50\"\n",
            "__________________________________________________________________________________________________\n",
            " Layer (type)                   Output Shape         Param #     Connected to                     \n",
            "==================================================================================================\n",
            " input_2 (InputLayer)           [(None, 200, 200, 3  0           []                               \n",
            "                                )]                                                                \n",
            "                                                                                                  \n",
            " conv1_pad (ZeroPadding2D)      (None, 206, 206, 3)  0           ['input_2[0][0]']                \n",
            "                                                                                                  \n",
            " conv1_conv (Conv2D)            (None, 100, 100, 64  9472        ['conv1_pad[0][0]']              \n",
            "                                )                                                                 \n",
            "                                                                                                  \n",
            " conv1_bn (BatchNormalization)  (None, 100, 100, 64  256         ['conv1_conv[0][0]']             \n",
            "                                )                                                                 \n",
            "                                                                                                  \n",
            " conv1_relu (Activation)        (None, 100, 100, 64  0           ['conv1_bn[0][0]']               \n",
            "                                )                                                                 \n",
            "                                                                                                  \n",
            " pool1_pad (ZeroPadding2D)      (None, 102, 102, 64  0           ['conv1_relu[0][0]']             \n",
            "                                )                                                                 \n",
            "                                                                                                  \n",
            " pool1_pool (MaxPooling2D)      (None, 50, 50, 64)   0           ['pool1_pad[0][0]']              \n",
            "                                                                                                  \n",
            " conv2_block1_1_conv (Conv2D)   (None, 50, 50, 64)   4160        ['pool1_pool[0][0]']             \n",
            "                                                                                                  \n",
            " conv2_block1_1_bn (BatchNormal  (None, 50, 50, 64)  256         ['conv2_block1_1_conv[0][0]']    \n",
            " ization)                                                                                         \n",
            "                                                                                                  \n",
            " conv2_block1_1_relu (Activatio  (None, 50, 50, 64)  0           ['conv2_block1_1_bn[0][0]']      \n",
            " n)                                                                                               \n",
            "                                                                                                  \n",
            " conv2_block1_2_conv (Conv2D)   (None, 50, 50, 64)   36928       ['conv2_block1_1_relu[0][0]']    \n",
            "                                                                                                  \n",
            " conv2_block1_2_bn (BatchNormal  (None, 50, 50, 64)  256         ['conv2_block1_2_conv[0][0]']    \n",
            " ization)                                                                                         \n",
            "                                                                                                  \n",
            " conv2_block1_2_relu (Activatio  (None, 50, 50, 64)  0           ['conv2_block1_2_bn[0][0]']      \n",
            " n)                                                                                               \n",
            "                                                                                                  \n",
            " conv2_block1_0_conv (Conv2D)   (None, 50, 50, 256)  16640       ['pool1_pool[0][0]']             \n",
            "                                                                                                  \n",
            " conv2_block1_3_conv (Conv2D)   (None, 50, 50, 256)  16640       ['conv2_block1_2_relu[0][0]']    \n",
            "                                                                                                  \n",
            " conv2_block1_0_bn (BatchNormal  (None, 50, 50, 256)  1024       ['conv2_block1_0_conv[0][0]']    \n",
            " ization)                                                                                         \n",
            "                                                                                                  \n",
            " conv2_block1_3_bn (BatchNormal  (None, 50, 50, 256)  1024       ['conv2_block1_3_conv[0][0]']    \n",
            " ization)                                                                                         \n",
            "                                                                                                  \n",
            " conv2_block1_add (Add)         (None, 50, 50, 256)  0           ['conv2_block1_0_bn[0][0]',      \n",
            "                                                                  'conv2_block1_3_bn[0][0]']      \n",
            "                                                                                                  \n",
            " conv2_block1_out (Activation)  (None, 50, 50, 256)  0           ['conv2_block1_add[0][0]']       \n",
            "                                                                                                  \n",
            " conv2_block2_1_conv (Conv2D)   (None, 50, 50, 64)   16448       ['conv2_block1_out[0][0]']       \n",
            "                                                                                                  \n",
            " conv2_block2_1_bn (BatchNormal  (None, 50, 50, 64)  256         ['conv2_block2_1_conv[0][0]']    \n",
            " ization)                                                                                         \n",
            "                                                                                                  \n",
            " conv2_block2_1_relu (Activatio  (None, 50, 50, 64)  0           ['conv2_block2_1_bn[0][0]']      \n",
            " n)                                                                                               \n",
            "                                                                                                  \n",
            " conv2_block2_2_conv (Conv2D)   (None, 50, 50, 64)   36928       ['conv2_block2_1_relu[0][0]']    \n",
            "                                                                                                  \n",
            " conv2_block2_2_bn (BatchNormal  (None, 50, 50, 64)  256         ['conv2_block2_2_conv[0][0]']    \n",
            " ization)                                                                                         \n",
            "                                                                                                  \n",
            " conv2_block2_2_relu (Activatio  (None, 50, 50, 64)  0           ['conv2_block2_2_bn[0][0]']      \n",
            " n)                                                                                               \n",
            "                                                                                                  \n",
            " conv2_block2_3_conv (Conv2D)   (None, 50, 50, 256)  16640       ['conv2_block2_2_relu[0][0]']    \n",
            "                                                                                                  \n",
            " conv2_block2_3_bn (BatchNormal  (None, 50, 50, 256)  1024       ['conv2_block2_3_conv[0][0]']    \n",
            " ization)                                                                                         \n",
            "                                                                                                  \n",
            " conv2_block2_add (Add)         (None, 50, 50, 256)  0           ['conv2_block1_out[0][0]',       \n",
            "                                                                  'conv2_block2_3_bn[0][0]']      \n",
            "                                                                                                  \n",
            " conv2_block2_out (Activation)  (None, 50, 50, 256)  0           ['conv2_block2_add[0][0]']       \n",
            "                                                                                                  \n",
            " conv2_block3_1_conv (Conv2D)   (None, 50, 50, 64)   16448       ['conv2_block2_out[0][0]']       \n",
            "                                                                                                  \n",
            " conv2_block3_1_bn (BatchNormal  (None, 50, 50, 64)  256         ['conv2_block3_1_conv[0][0]']    \n",
            " ization)                                                                                         \n",
            "                                                                                                  \n",
            " conv2_block3_1_relu (Activatio  (None, 50, 50, 64)  0           ['conv2_block3_1_bn[0][0]']      \n",
            " n)                                                                                               \n",
            "                                                                                                  \n",
            " conv2_block3_2_conv (Conv2D)   (None, 50, 50, 64)   36928       ['conv2_block3_1_relu[0][0]']    \n",
            "                                                                                                  \n",
            " conv2_block3_2_bn (BatchNormal  (None, 50, 50, 64)  256         ['conv2_block3_2_conv[0][0]']    \n",
            " ization)                                                                                         \n",
            "                                                                                                  \n",
            " conv2_block3_2_relu (Activatio  (None, 50, 50, 64)  0           ['conv2_block3_2_bn[0][0]']      \n",
            " n)                                                                                               \n",
            "                                                                                                  \n",
            " conv2_block3_3_conv (Conv2D)   (None, 50, 50, 256)  16640       ['conv2_block3_2_relu[0][0]']    \n",
            "                                                                                                  \n",
            " conv2_block3_3_bn (BatchNormal  (None, 50, 50, 256)  1024       ['conv2_block3_3_conv[0][0]']    \n",
            " ization)                                                                                         \n",
            "                                                                                                  \n",
            " conv2_block3_add (Add)         (None, 50, 50, 256)  0           ['conv2_block2_out[0][0]',       \n",
            "                                                                  'conv2_block3_3_bn[0][0]']      \n",
            "                                                                                                  \n",
            " conv2_block3_out (Activation)  (None, 50, 50, 256)  0           ['conv2_block3_add[0][0]']       \n",
            "                                                                                                  \n",
            " conv3_block1_1_conv (Conv2D)   (None, 25, 25, 128)  32896       ['conv2_block3_out[0][0]']       \n",
            "                                                                                                  \n",
            " conv3_block1_1_bn (BatchNormal  (None, 25, 25, 128)  512        ['conv3_block1_1_conv[0][0]']    \n",
            " ization)                                                                                         \n",
            "                                                                                                  \n",
            " conv3_block1_1_relu (Activatio  (None, 25, 25, 128)  0          ['conv3_block1_1_bn[0][0]']      \n",
            " n)                                                                                               \n",
            "                                                                                                  \n",
            " conv3_block1_2_conv (Conv2D)   (None, 25, 25, 128)  147584      ['conv3_block1_1_relu[0][0]']    \n",
            "                                                                                                  \n",
            " conv3_block1_2_bn (BatchNormal  (None, 25, 25, 128)  512        ['conv3_block1_2_conv[0][0]']    \n",
            " ization)                                                                                         \n",
            "                                                                                                  \n",
            " conv3_block1_2_relu (Activatio  (None, 25, 25, 128)  0          ['conv3_block1_2_bn[0][0]']      \n",
            " n)                                                                                               \n",
            "                                                                                                  \n",
            " conv3_block1_0_conv (Conv2D)   (None, 25, 25, 512)  131584      ['conv2_block3_out[0][0]']       \n",
            "                                                                                                  \n",
            " conv3_block1_3_conv (Conv2D)   (None, 25, 25, 512)  66048       ['conv3_block1_2_relu[0][0]']    \n",
            "                                                                                                  \n",
            " conv3_block1_0_bn (BatchNormal  (None, 25, 25, 512)  2048       ['conv3_block1_0_conv[0][0]']    \n",
            " ization)                                                                                         \n",
            "                                                                                                  \n",
            " conv3_block1_3_bn (BatchNormal  (None, 25, 25, 512)  2048       ['conv3_block1_3_conv[0][0]']    \n",
            " ization)                                                                                         \n",
            "                                                                                                  \n",
            " conv3_block1_add (Add)         (None, 25, 25, 512)  0           ['conv3_block1_0_bn[0][0]',      \n",
            "                                                                  'conv3_block1_3_bn[0][0]']      \n",
            "                                                                                                  \n",
            " conv3_block1_out (Activation)  (None, 25, 25, 512)  0           ['conv3_block1_add[0][0]']       \n",
            "                                                                                                  \n",
            " conv3_block2_1_conv (Conv2D)   (None, 25, 25, 128)  65664       ['conv3_block1_out[0][0]']       \n",
            "                                                                                                  \n",
            " conv3_block2_1_bn (BatchNormal  (None, 25, 25, 128)  512        ['conv3_block2_1_conv[0][0]']    \n",
            " ization)                                                                                         \n",
            "                                                                                                  \n",
            " conv3_block2_1_relu (Activatio  (None, 25, 25, 128)  0          ['conv3_block2_1_bn[0][0]']      \n",
            " n)                                                                                               \n",
            "                                                                                                  \n",
            " conv3_block2_2_conv (Conv2D)   (None, 25, 25, 128)  147584      ['conv3_block2_1_relu[0][0]']    \n",
            "                                                                                                  \n",
            " conv3_block2_2_bn (BatchNormal  (None, 25, 25, 128)  512        ['conv3_block2_2_conv[0][0]']    \n",
            " ization)                                                                                         \n",
            "                                                                                                  \n",
            " conv3_block2_2_relu (Activatio  (None, 25, 25, 128)  0          ['conv3_block2_2_bn[0][0]']      \n",
            " n)                                                                                               \n",
            "                                                                                                  \n",
            " conv3_block2_3_conv (Conv2D)   (None, 25, 25, 512)  66048       ['conv3_block2_2_relu[0][0]']    \n",
            "                                                                                                  \n",
            " conv3_block2_3_bn (BatchNormal  (None, 25, 25, 512)  2048       ['conv3_block2_3_conv[0][0]']    \n",
            " ization)                                                                                         \n",
            "                                                                                                  \n",
            " conv3_block2_add (Add)         (None, 25, 25, 512)  0           ['conv3_block1_out[0][0]',       \n",
            "                                                                  'conv3_block2_3_bn[0][0]']      \n",
            "                                                                                                  \n",
            " conv3_block2_out (Activation)  (None, 25, 25, 512)  0           ['conv3_block2_add[0][0]']       \n",
            "                                                                                                  \n",
            " conv3_block3_1_conv (Conv2D)   (None, 25, 25, 128)  65664       ['conv3_block2_out[0][0]']       \n",
            "                                                                                                  \n",
            " conv3_block3_1_bn (BatchNormal  (None, 25, 25, 128)  512        ['conv3_block3_1_conv[0][0]']    \n",
            " ization)                                                                                         \n",
            "                                                                                                  \n",
            " conv3_block3_1_relu (Activatio  (None, 25, 25, 128)  0          ['conv3_block3_1_bn[0][0]']      \n",
            " n)                                                                                               \n",
            "                                                                                                  \n",
            " conv3_block3_2_conv (Conv2D)   (None, 25, 25, 128)  147584      ['conv3_block3_1_relu[0][0]']    \n",
            "                                                                                                  \n",
            " conv3_block3_2_bn (BatchNormal  (None, 25, 25, 128)  512        ['conv3_block3_2_conv[0][0]']    \n",
            " ization)                                                                                         \n",
            "                                                                                                  \n",
            " conv3_block3_2_relu (Activatio  (None, 25, 25, 128)  0          ['conv3_block3_2_bn[0][0]']      \n",
            " n)                                                                                               \n",
            "                                                                                                  \n",
            " conv3_block3_3_conv (Conv2D)   (None, 25, 25, 512)  66048       ['conv3_block3_2_relu[0][0]']    \n",
            "                                                                                                  \n",
            " conv3_block3_3_bn (BatchNormal  (None, 25, 25, 512)  2048       ['conv3_block3_3_conv[0][0]']    \n",
            " ization)                                                                                         \n",
            "                                                                                                  \n",
            " conv3_block3_add (Add)         (None, 25, 25, 512)  0           ['conv3_block2_out[0][0]',       \n",
            "                                                                  'conv3_block3_3_bn[0][0]']      \n",
            "                                                                                                  \n",
            " conv3_block3_out (Activation)  (None, 25, 25, 512)  0           ['conv3_block3_add[0][0]']       \n",
            "                                                                                                  \n",
            " conv3_block4_1_conv (Conv2D)   (None, 25, 25, 128)  65664       ['conv3_block3_out[0][0]']       \n",
            "                                                                                                  \n",
            " conv3_block4_1_bn (BatchNormal  (None, 25, 25, 128)  512        ['conv3_block4_1_conv[0][0]']    \n",
            " ization)                                                                                         \n",
            "                                                                                                  \n",
            " conv3_block4_1_relu (Activatio  (None, 25, 25, 128)  0          ['conv3_block4_1_bn[0][0]']      \n",
            " n)                                                                                               \n",
            "                                                                                                  \n",
            " conv3_block4_2_conv (Conv2D)   (None, 25, 25, 128)  147584      ['conv3_block4_1_relu[0][0]']    \n",
            "                                                                                                  \n",
            " conv3_block4_2_bn (BatchNormal  (None, 25, 25, 128)  512        ['conv3_block4_2_conv[0][0]']    \n",
            " ization)                                                                                         \n",
            "                                                                                                  \n",
            " conv3_block4_2_relu (Activatio  (None, 25, 25, 128)  0          ['conv3_block4_2_bn[0][0]']      \n",
            " n)                                                                                               \n",
            "                                                                                                  \n",
            " conv3_block4_3_conv (Conv2D)   (None, 25, 25, 512)  66048       ['conv3_block4_2_relu[0][0]']    \n",
            "                                                                                                  \n",
            " conv3_block4_3_bn (BatchNormal  (None, 25, 25, 512)  2048       ['conv3_block4_3_conv[0][0]']    \n",
            " ization)                                                                                         \n",
            "                                                                                                  \n",
            " conv3_block4_add (Add)         (None, 25, 25, 512)  0           ['conv3_block3_out[0][0]',       \n",
            "                                                                  'conv3_block4_3_bn[0][0]']      \n",
            "                                                                                                  \n",
            " conv3_block4_out (Activation)  (None, 25, 25, 512)  0           ['conv3_block4_add[0][0]']       \n",
            "                                                                                                  \n",
            " conv4_block1_1_conv (Conv2D)   (None, 13, 13, 256)  131328      ['conv3_block4_out[0][0]']       \n",
            "                                                                                                  \n",
            " conv4_block1_1_bn (BatchNormal  (None, 13, 13, 256)  1024       ['conv4_block1_1_conv[0][0]']    \n",
            " ization)                                                                                         \n",
            "                                                                                                  \n",
            " conv4_block1_1_relu (Activatio  (None, 13, 13, 256)  0          ['conv4_block1_1_bn[0][0]']      \n",
            " n)                                                                                               \n",
            "                                                                                                  \n",
            " conv4_block1_2_conv (Conv2D)   (None, 13, 13, 256)  590080      ['conv4_block1_1_relu[0][0]']    \n",
            "                                                                                                  \n",
            " conv4_block1_2_bn (BatchNormal  (None, 13, 13, 256)  1024       ['conv4_block1_2_conv[0][0]']    \n",
            " ization)                                                                                         \n",
            "                                                                                                  \n",
            " conv4_block1_2_relu (Activatio  (None, 13, 13, 256)  0          ['conv4_block1_2_bn[0][0]']      \n",
            " n)                                                                                               \n",
            "                                                                                                  \n",
            " conv4_block1_0_conv (Conv2D)   (None, 13, 13, 1024  525312      ['conv3_block4_out[0][0]']       \n",
            "                                )                                                                 \n",
            "                                                                                                  \n",
            " conv4_block1_3_conv (Conv2D)   (None, 13, 13, 1024  263168      ['conv4_block1_2_relu[0][0]']    \n",
            "                                )                                                                 \n",
            "                                                                                                  \n",
            " conv4_block1_0_bn (BatchNormal  (None, 13, 13, 1024  4096       ['conv4_block1_0_conv[0][0]']    \n",
            " ization)                       )                                                                 \n",
            "                                                                                                  \n",
            " conv4_block1_3_bn (BatchNormal  (None, 13, 13, 1024  4096       ['conv4_block1_3_conv[0][0]']    \n",
            " ization)                       )                                                                 \n",
            "                                                                                                  \n",
            " conv4_block1_add (Add)         (None, 13, 13, 1024  0           ['conv4_block1_0_bn[0][0]',      \n",
            "                                )                                 'conv4_block1_3_bn[0][0]']      \n",
            "                                                                                                  \n",
            " conv4_block1_out (Activation)  (None, 13, 13, 1024  0           ['conv4_block1_add[0][0]']       \n",
            "                                )                                                                 \n",
            "                                                                                                  \n",
            " conv4_block2_1_conv (Conv2D)   (None, 13, 13, 256)  262400      ['conv4_block1_out[0][0]']       \n",
            "                                                                                                  \n",
            " conv4_block2_1_bn (BatchNormal  (None, 13, 13, 256)  1024       ['conv4_block2_1_conv[0][0]']    \n",
            " ization)                                                                                         \n",
            "                                                                                                  \n",
            " conv4_block2_1_relu (Activatio  (None, 13, 13, 256)  0          ['conv4_block2_1_bn[0][0]']      \n",
            " n)                                                                                               \n",
            "                                                                                                  \n",
            " conv4_block2_2_conv (Conv2D)   (None, 13, 13, 256)  590080      ['conv4_block2_1_relu[0][0]']    \n",
            "                                                                                                  \n",
            " conv4_block2_2_bn (BatchNormal  (None, 13, 13, 256)  1024       ['conv4_block2_2_conv[0][0]']    \n",
            " ization)                                                                                         \n",
            "                                                                                                  \n",
            " conv4_block2_2_relu (Activatio  (None, 13, 13, 256)  0          ['conv4_block2_2_bn[0][0]']      \n",
            " n)                                                                                               \n",
            "                                                                                                  \n",
            " conv4_block2_3_conv (Conv2D)   (None, 13, 13, 1024  263168      ['conv4_block2_2_relu[0][0]']    \n",
            "                                )                                                                 \n",
            "                                                                                                  \n",
            " conv4_block2_3_bn (BatchNormal  (None, 13, 13, 1024  4096       ['conv4_block2_3_conv[0][0]']    \n",
            " ization)                       )                                                                 \n",
            "                                                                                                  \n",
            " conv4_block2_add (Add)         (None, 13, 13, 1024  0           ['conv4_block1_out[0][0]',       \n",
            "                                )                                 'conv4_block2_3_bn[0][0]']      \n",
            "                                                                                                  \n",
            " conv4_block2_out (Activation)  (None, 13, 13, 1024  0           ['conv4_block2_add[0][0]']       \n",
            "                                )                                                                 \n",
            "                                                                                                  \n",
            " conv4_block3_1_conv (Conv2D)   (None, 13, 13, 256)  262400      ['conv4_block2_out[0][0]']       \n",
            "                                                                                                  \n",
            " conv4_block3_1_bn (BatchNormal  (None, 13, 13, 256)  1024       ['conv4_block3_1_conv[0][0]']    \n",
            " ization)                                                                                         \n",
            "                                                                                                  \n",
            " conv4_block3_1_relu (Activatio  (None, 13, 13, 256)  0          ['conv4_block3_1_bn[0][0]']      \n",
            " n)                                                                                               \n",
            "                                                                                                  \n",
            " conv4_block3_2_conv (Conv2D)   (None, 13, 13, 256)  590080      ['conv4_block3_1_relu[0][0]']    \n",
            "                                                                                                  \n",
            " conv4_block3_2_bn (BatchNormal  (None, 13, 13, 256)  1024       ['conv4_block3_2_conv[0][0]']    \n",
            " ization)                                                                                         \n",
            "                                                                                                  \n",
            " conv4_block3_2_relu (Activatio  (None, 13, 13, 256)  0          ['conv4_block3_2_bn[0][0]']      \n",
            " n)                                                                                               \n",
            "                                                                                                  \n",
            " conv4_block3_3_conv (Conv2D)   (None, 13, 13, 1024  263168      ['conv4_block3_2_relu[0][0]']    \n",
            "                                )                                                                 \n",
            "                                                                                                  \n",
            " conv4_block3_3_bn (BatchNormal  (None, 13, 13, 1024  4096       ['conv4_block3_3_conv[0][0]']    \n",
            " ization)                       )                                                                 \n",
            "                                                                                                  \n",
            " conv4_block3_add (Add)         (None, 13, 13, 1024  0           ['conv4_block2_out[0][0]',       \n",
            "                                )                                 'conv4_block3_3_bn[0][0]']      \n",
            "                                                                                                  \n",
            " conv4_block3_out (Activation)  (None, 13, 13, 1024  0           ['conv4_block3_add[0][0]']       \n",
            "                                )                                                                 \n",
            "                                                                                                  \n",
            " conv4_block4_1_conv (Conv2D)   (None, 13, 13, 256)  262400      ['conv4_block3_out[0][0]']       \n",
            "                                                                                                  \n",
            " conv4_block4_1_bn (BatchNormal  (None, 13, 13, 256)  1024       ['conv4_block4_1_conv[0][0]']    \n",
            " ization)                                                                                         \n",
            "                                                                                                  \n",
            " conv4_block4_1_relu (Activatio  (None, 13, 13, 256)  0          ['conv4_block4_1_bn[0][0]']      \n",
            " n)                                                                                               \n",
            "                                                                                                  \n",
            " conv4_block4_2_conv (Conv2D)   (None, 13, 13, 256)  590080      ['conv4_block4_1_relu[0][0]']    \n",
            "                                                                                                  \n",
            " conv4_block4_2_bn (BatchNormal  (None, 13, 13, 256)  1024       ['conv4_block4_2_conv[0][0]']    \n",
            " ization)                                                                                         \n",
            "                                                                                                  \n",
            " conv4_block4_2_relu (Activatio  (None, 13, 13, 256)  0          ['conv4_block4_2_bn[0][0]']      \n",
            " n)                                                                                               \n",
            "                                                                                                  \n",
            " conv4_block4_3_conv (Conv2D)   (None, 13, 13, 1024  263168      ['conv4_block4_2_relu[0][0]']    \n",
            "                                )                                                                 \n",
            "                                                                                                  \n",
            " conv4_block4_3_bn (BatchNormal  (None, 13, 13, 1024  4096       ['conv4_block4_3_conv[0][0]']    \n",
            " ization)                       )                                                                 \n",
            "                                                                                                  \n",
            " conv4_block4_add (Add)         (None, 13, 13, 1024  0           ['conv4_block3_out[0][0]',       \n",
            "                                )                                 'conv4_block4_3_bn[0][0]']      \n",
            "                                                                                                  \n",
            " conv4_block4_out (Activation)  (None, 13, 13, 1024  0           ['conv4_block4_add[0][0]']       \n",
            "                                )                                                                 \n",
            "                                                                                                  \n",
            " conv4_block5_1_conv (Conv2D)   (None, 13, 13, 256)  262400      ['conv4_block4_out[0][0]']       \n",
            "                                                                                                  \n",
            " conv4_block5_1_bn (BatchNormal  (None, 13, 13, 256)  1024       ['conv4_block5_1_conv[0][0]']    \n",
            " ization)                                                                                         \n",
            "                                                                                                  \n",
            " conv4_block5_1_relu (Activatio  (None, 13, 13, 256)  0          ['conv4_block5_1_bn[0][0]']      \n",
            " n)                                                                                               \n",
            "                                                                                                  \n",
            " conv4_block5_2_conv (Conv2D)   (None, 13, 13, 256)  590080      ['conv4_block5_1_relu[0][0]']    \n",
            "                                                                                                  \n",
            " conv4_block5_2_bn (BatchNormal  (None, 13, 13, 256)  1024       ['conv4_block5_2_conv[0][0]']    \n",
            " ization)                                                                                         \n",
            "                                                                                                  \n",
            " conv4_block5_2_relu (Activatio  (None, 13, 13, 256)  0          ['conv4_block5_2_bn[0][0]']      \n",
            " n)                                                                                               \n",
            "                                                                                                  \n",
            " conv4_block5_3_conv (Conv2D)   (None, 13, 13, 1024  263168      ['conv4_block5_2_relu[0][0]']    \n",
            "                                )                                                                 \n",
            "                                                                                                  \n",
            " conv4_block5_3_bn (BatchNormal  (None, 13, 13, 1024  4096       ['conv4_block5_3_conv[0][0]']    \n",
            " ization)                       )                                                                 \n",
            "                                                                                                  \n",
            " conv4_block5_add (Add)         (None, 13, 13, 1024  0           ['conv4_block4_out[0][0]',       \n",
            "                                )                                 'conv4_block5_3_bn[0][0]']      \n",
            "                                                                                                  \n",
            " conv4_block5_out (Activation)  (None, 13, 13, 1024  0           ['conv4_block5_add[0][0]']       \n",
            "                                )                                                                 \n",
            "                                                                                                  \n",
            " conv4_block6_1_conv (Conv2D)   (None, 13, 13, 256)  262400      ['conv4_block5_out[0][0]']       \n",
            "                                                                                                  \n",
            " conv4_block6_1_bn (BatchNormal  (None, 13, 13, 256)  1024       ['conv4_block6_1_conv[0][0]']    \n",
            " ization)                                                                                         \n",
            "                                                                                                  \n",
            " conv4_block6_1_relu (Activatio  (None, 13, 13, 256)  0          ['conv4_block6_1_bn[0][0]']      \n",
            " n)                                                                                               \n",
            "                                                                                                  \n",
            " conv4_block6_2_conv (Conv2D)   (None, 13, 13, 256)  590080      ['conv4_block6_1_relu[0][0]']    \n",
            "                                                                                                  \n",
            " conv4_block6_2_bn (BatchNormal  (None, 13, 13, 256)  1024       ['conv4_block6_2_conv[0][0]']    \n",
            " ization)                                                                                         \n",
            "                                                                                                  \n",
            " conv4_block6_2_relu (Activatio  (None, 13, 13, 256)  0          ['conv4_block6_2_bn[0][0]']      \n",
            " n)                                                                                               \n",
            "                                                                                                  \n",
            " conv4_block6_3_conv (Conv2D)   (None, 13, 13, 1024  263168      ['conv4_block6_2_relu[0][0]']    \n",
            "                                )                                                                 \n",
            "                                                                                                  \n",
            " conv4_block6_3_bn (BatchNormal  (None, 13, 13, 1024  4096       ['conv4_block6_3_conv[0][0]']    \n",
            " ization)                       )                                                                 \n",
            "                                                                                                  \n",
            " conv4_block6_add (Add)         (None, 13, 13, 1024  0           ['conv4_block5_out[0][0]',       \n",
            "                                )                                 'conv4_block6_3_bn[0][0]']      \n",
            "                                                                                                  \n",
            " conv4_block6_out (Activation)  (None, 13, 13, 1024  0           ['conv4_block6_add[0][0]']       \n",
            "                                )                                                                 \n",
            "                                                                                                  \n",
            " conv5_block1_1_conv (Conv2D)   (None, 7, 7, 512)    524800      ['conv4_block6_out[0][0]']       \n",
            "                                                                                                  \n",
            " conv5_block1_1_bn (BatchNormal  (None, 7, 7, 512)   2048        ['conv5_block1_1_conv[0][0]']    \n",
            " ization)                                                                                         \n",
            "                                                                                                  \n",
            " conv5_block1_1_relu (Activatio  (None, 7, 7, 512)   0           ['conv5_block1_1_bn[0][0]']      \n",
            " n)                                                                                               \n",
            "                                                                                                  \n",
            " conv5_block1_2_conv (Conv2D)   (None, 7, 7, 512)    2359808     ['conv5_block1_1_relu[0][0]']    \n",
            "                                                                                                  \n",
            " conv5_block1_2_bn (BatchNormal  (None, 7, 7, 512)   2048        ['conv5_block1_2_conv[0][0]']    \n",
            " ization)                                                                                         \n",
            "                                                                                                  \n",
            " conv5_block1_2_relu (Activatio  (None, 7, 7, 512)   0           ['conv5_block1_2_bn[0][0]']      \n",
            " n)                                                                                               \n",
            "                                                                                                  \n",
            " conv5_block1_0_conv (Conv2D)   (None, 7, 7, 2048)   2099200     ['conv4_block6_out[0][0]']       \n",
            "                                                                                                  \n",
            " conv5_block1_3_conv (Conv2D)   (None, 7, 7, 2048)   1050624     ['conv5_block1_2_relu[0][0]']    \n",
            "                                                                                                  \n",
            " conv5_block1_0_bn (BatchNormal  (None, 7, 7, 2048)  8192        ['conv5_block1_0_conv[0][0]']    \n",
            " ization)                                                                                         \n",
            "                                                                                                  \n",
            " conv5_block1_3_bn (BatchNormal  (None, 7, 7, 2048)  8192        ['conv5_block1_3_conv[0][0]']    \n",
            " ization)                                                                                         \n",
            "                                                                                                  \n",
            " conv5_block1_add (Add)         (None, 7, 7, 2048)   0           ['conv5_block1_0_bn[0][0]',      \n",
            "                                                                  'conv5_block1_3_bn[0][0]']      \n",
            "                                                                                                  \n",
            " conv5_block1_out (Activation)  (None, 7, 7, 2048)   0           ['conv5_block1_add[0][0]']       \n",
            "                                                                                                  \n",
            " conv5_block2_1_conv (Conv2D)   (None, 7, 7, 512)    1049088     ['conv5_block1_out[0][0]']       \n",
            "                                                                                                  \n",
            " conv5_block2_1_bn (BatchNormal  (None, 7, 7, 512)   2048        ['conv5_block2_1_conv[0][0]']    \n",
            " ization)                                                                                         \n",
            "                                                                                                  \n",
            " conv5_block2_1_relu (Activatio  (None, 7, 7, 512)   0           ['conv5_block2_1_bn[0][0]']      \n",
            " n)                                                                                               \n",
            "                                                                                                  \n",
            " conv5_block2_2_conv (Conv2D)   (None, 7, 7, 512)    2359808     ['conv5_block2_1_relu[0][0]']    \n",
            "                                                                                                  \n",
            " conv5_block2_2_bn (BatchNormal  (None, 7, 7, 512)   2048        ['conv5_block2_2_conv[0][0]']    \n",
            " ization)                                                                                         \n",
            "                                                                                                  \n",
            " conv5_block2_2_relu (Activatio  (None, 7, 7, 512)   0           ['conv5_block2_2_bn[0][0]']      \n",
            " n)                                                                                               \n",
            "                                                                                                  \n",
            " conv5_block2_3_conv (Conv2D)   (None, 7, 7, 2048)   1050624     ['conv5_block2_2_relu[0][0]']    \n",
            "                                                                                                  \n",
            " conv5_block2_3_bn (BatchNormal  (None, 7, 7, 2048)  8192        ['conv5_block2_3_conv[0][0]']    \n",
            " ization)                                                                                         \n",
            "                                                                                                  \n",
            " conv5_block2_add (Add)         (None, 7, 7, 2048)   0           ['conv5_block1_out[0][0]',       \n",
            "                                                                  'conv5_block2_3_bn[0][0]']      \n",
            "                                                                                                  \n",
            " conv5_block2_out (Activation)  (None, 7, 7, 2048)   0           ['conv5_block2_add[0][0]']       \n",
            "                                                                                                  \n",
            " conv5_block3_1_conv (Conv2D)   (None, 7, 7, 512)    1049088     ['conv5_block2_out[0][0]']       \n",
            "                                                                                                  \n",
            " conv5_block3_1_bn (BatchNormal  (None, 7, 7, 512)   2048        ['conv5_block3_1_conv[0][0]']    \n",
            " ization)                                                                                         \n",
            "                                                                                                  \n",
            " conv5_block3_1_relu (Activatio  (None, 7, 7, 512)   0           ['conv5_block3_1_bn[0][0]']      \n",
            " n)                                                                                               \n",
            "                                                                                                  \n",
            " conv5_block3_2_conv (Conv2D)   (None, 7, 7, 512)    2359808     ['conv5_block3_1_relu[0][0]']    \n",
            "                                                                                                  \n",
            " conv5_block3_2_bn (BatchNormal  (None, 7, 7, 512)   2048        ['conv5_block3_2_conv[0][0]']    \n",
            " ization)                                                                                         \n",
            "                                                                                                  \n",
            " conv5_block3_2_relu (Activatio  (None, 7, 7, 512)   0           ['conv5_block3_2_bn[0][0]']      \n",
            " n)                                                                                               \n",
            "                                                                                                  \n",
            " conv5_block3_3_conv (Conv2D)   (None, 7, 7, 2048)   1050624     ['conv5_block3_2_relu[0][0]']    \n",
            "                                                                                                  \n",
            " conv5_block3_3_bn (BatchNormal  (None, 7, 7, 2048)  8192        ['conv5_block3_3_conv[0][0]']    \n",
            " ization)                                                                                         \n",
            "                                                                                                  \n",
            " conv5_block3_add (Add)         (None, 7, 7, 2048)   0           ['conv5_block2_out[0][0]',       \n",
            "                                                                  'conv5_block3_3_bn[0][0]']      \n",
            "                                                                                                  \n",
            " conv5_block3_out (Activation)  (None, 7, 7, 2048)   0           ['conv5_block3_add[0][0]']       \n",
            "                                                                                                  \n",
            " max_pool (GlobalMaxPooling2D)  (None, 2048)         0           ['conv5_block3_out[0][0]']       \n",
            "                                                                                                  \n",
            "==================================================================================================\n",
            "Total params: 23,587,712\n",
            "Trainable params: 23,534,592\n",
            "Non-trainable params: 53,120\n",
            "__________________________________________________________________________________________________\n",
            "<keras.engine.input_layer.InputLayer object at 0x7f656dabbf50> True\n",
            "<keras.layers.convolutional.ZeroPadding2D object at 0x7f656dad7110> True\n",
            "<keras.layers.convolutional.Conv2D object at 0x7f656dad27d0> True\n",
            "<keras.layers.normalization.batch_normalization.BatchNormalization object at 0x7f656dabdf90> True\n",
            "<keras.layers.core.activation.Activation object at 0x7f656dae6550> True\n",
            "<keras.layers.convolutional.ZeroPadding2D object at 0x7f656dae6f10> True\n",
            "<keras.layers.pooling.MaxPooling2D object at 0x7f656daeb390> True\n",
            "<keras.layers.convolutional.Conv2D object at 0x7f656daeedd0> True\n",
            "<keras.layers.normalization.batch_normalization.BatchNormalization object at 0x7f657448ab50> True\n",
            "<keras.layers.core.activation.Activation object at 0x7f6574494510> True\n",
            "<keras.layers.convolutional.Conv2D object at 0x7f657448ad90> True\n",
            "<keras.layers.normalization.batch_normalization.BatchNormalization object at 0x7f6574498dd0> True\n",
            "<keras.layers.core.activation.Activation object at 0x7f65744a8110> True\n",
            "<keras.layers.convolutional.Conv2D object at 0x7f656daee7d0> True\n",
            "<keras.layers.convolutional.Conv2D object at 0x7f6574498690> True\n",
            "<keras.layers.normalization.batch_normalization.BatchNormalization object at 0x7f656daf3910> True\n",
            "<keras.layers.normalization.batch_normalization.BatchNormalization object at 0x7f65744abe10> True\n",
            "<keras.layers.merge.Add object at 0x7f65744b81d0> True\n",
            "<keras.layers.core.activation.Activation object at 0x7f65744b88d0> True\n",
            "<keras.layers.convolutional.Conv2D object at 0x7f65744ab650> True\n",
            "<keras.layers.normalization.batch_normalization.BatchNormalization object at 0x7f6574446110> True\n",
            "<keras.layers.core.activation.Activation object at 0x7f65744511d0> True\n",
            "<keras.layers.convolutional.Conv2D object at 0x7f6574451950> True\n",
            "<keras.layers.normalization.batch_normalization.BatchNormalization object at 0x7f6574454910> True\n",
            "<keras.layers.core.activation.Activation object at 0x7f6574462250> True\n",
            "<keras.layers.convolutional.Conv2D object at 0x7f65744af190> True\n",
            "<keras.layers.normalization.batch_normalization.BatchNormalization object at 0x7f6574466950> True\n",
            "<keras.layers.merge.Add object at 0x7f65744761d0> True\n",
            "<keras.layers.core.activation.Activation object at 0x7f6574476e50> True\n",
            "<keras.layers.convolutional.Conv2D object at 0x7f657447a390> True\n",
            "<keras.layers.normalization.batch_normalization.BatchNormalization object at 0x7f6574480b90> True\n",
            "<keras.layers.core.activation.Activation object at 0x7f657440bd50> True\n",
            "<keras.layers.convolutional.Conv2D object at 0x7f656dacf490> True\n",
            "<keras.layers.normalization.batch_normalization.BatchNormalization object at 0x7f657441d810> True\n",
            "<keras.layers.core.activation.Activation object at 0x7f657440bc10> True\n",
            "<keras.layers.convolutional.Conv2D object at 0x7f6574480d50> True\n",
            "<keras.layers.normalization.batch_normalization.BatchNormalization object at 0x7f6574433250> True\n",
            "<keras.layers.merge.Add object at 0x7f657443f190> True\n",
            "<keras.layers.core.activation.Activation object at 0x7f657443fe10> True\n",
            "<keras.layers.convolutional.Conv2D object at 0x7f657444bdd0> True\n",
            "<keras.layers.normalization.batch_normalization.BatchNormalization object at 0x7f6574418a90> True\n",
            "<keras.layers.core.activation.Activation object at 0x7f65744bd410> True\n",
            "<keras.layers.convolutional.Conv2D object at 0x7f65744abc10> True\n",
            "<keras.layers.normalization.batch_normalization.BatchNormalization object at 0x7f657448ea90> True\n",
            "<keras.layers.core.activation.Activation object at 0x7f6574494c90> True\n",
            "<keras.layers.convolutional.Conv2D object at 0x7f657441d050> True\n",
            "<keras.layers.convolutional.Conv2D object at 0x7f6574485cd0> True\n",
            "<keras.layers.normalization.batch_normalization.BatchNormalization object at 0x7f6574418f10> True\n",
            "<keras.layers.normalization.batch_normalization.BatchNormalization object at 0x7f6574451d50> True\n",
            "<keras.layers.merge.Add object at 0x7f65744b70d0> True\n",
            "<keras.layers.core.activation.Activation object at 0x7f65744b77d0> True\n",
            "<keras.layers.convolutional.Conv2D object at 0x7f65767a0990> True\n",
            "<keras.layers.normalization.batch_normalization.BatchNormalization object at 0x7f65743c7c10> True\n",
            "<keras.layers.core.activation.Activation object at 0x7f65743d5350> True\n",
            "<keras.layers.convolutional.Conv2D object at 0x7f65743d1ad0> True\n",
            "<keras.layers.normalization.batch_normalization.BatchNormalization object at 0x7f65743db810> True\n",
            "<keras.layers.core.activation.Activation object at 0x7f65743e7150> True\n",
            "<keras.layers.convolutional.Conv2D object at 0x7f65743e7d10> True\n",
            "<keras.layers.normalization.batch_normalization.BatchNormalization object at 0x7f65743ec850> True\n",
            "<keras.layers.merge.Add object at 0x7f65743fb150> True\n",
            "<keras.layers.core.activation.Activation object at 0x7f65743fbe10> True\n",
            "<keras.layers.convolutional.Conv2D object at 0x7f6574401390> True\n",
            "<keras.layers.normalization.batch_normalization.BatchNormalization object at 0x7f6574386b10> True\n",
            "<keras.layers.core.activation.Activation object at 0x7f6574391490> True\n",
            "<keras.layers.convolutional.Conv2D object at 0x7f657438a290> True\n",
            "<keras.layers.normalization.batch_normalization.BatchNormalization object at 0x7f657439b390> True\n",
            "<keras.layers.core.activation.Activation object at 0x7f65743a3290> True\n",
            "<keras.layers.convolutional.Conv2D object at 0x7f65743a3bd0> True\n",
            "<keras.layers.normalization.batch_normalization.BatchNormalization object at 0x7f65743ad3d0> True\n",
            "<keras.layers.merge.Add object at 0x7f657439d5d0> True\n",
            "<keras.layers.core.activation.Activation object at 0x7f65743b7e10> True\n",
            "<keras.layers.convolutional.Conv2D object at 0x7f65743c1310> True\n",
            "<keras.layers.normalization.batch_normalization.BatchNormalization object at 0x7f6574345650> True\n",
            "<keras.layers.core.activation.Activation object at 0x7f65743505d0> True\n",
            "<keras.layers.convolutional.Conv2D object at 0x7f65743503d0> True\n",
            "<keras.layers.normalization.batch_normalization.BatchNormalization object at 0x7f6574355ed0> True\n",
            "<keras.layers.core.activation.Activation object at 0x7f657435d210> True\n",
            "<keras.layers.convolutional.Conv2D object at 0x7f6574349c90> True\n",
            "<keras.layers.normalization.batch_normalization.BatchNormalization object at 0x7f65743bbed0> True\n",
            "<keras.layers.merge.Add object at 0x7f6574395e50> True\n",
            "<keras.layers.core.activation.Activation object at 0x7f657438a990> True\n",
            "<keras.layers.convolutional.Conv2D object at 0x7f65744411d0> True\n",
            "<keras.layers.normalization.batch_normalization.BatchNormalization object at 0x7f65743f0610> True\n",
            "<keras.layers.core.activation.Activation object at 0x7f657448efd0> True\n",
            "<keras.layers.convolutional.Conv2D object at 0x7f6574454310> True\n",
            "<keras.layers.normalization.batch_normalization.BatchNormalization object at 0x7f65743dffd0> True\n",
            "<keras.layers.core.activation.Activation object at 0x7f65743980d0> True\n",
            "<keras.layers.convolutional.Conv2D object at 0x7f65743fb350> True\n",
            "<keras.layers.convolutional.Conv2D object at 0x7f65743b8690> True\n",
            "<keras.layers.normalization.batch_normalization.BatchNormalization object at 0x7f65743ecc90> True\n",
            "<keras.layers.normalization.batch_normalization.BatchNormalization object at 0x7f656daee6d0> True\n",
            "<keras.layers.merge.Add object at 0x7f6574370190> True\n",
            "<keras.layers.core.activation.Activation object at 0x7f6574370890> True\n",
            "<keras.layers.convolutional.Conv2D object at 0x7f65744c0ad0> True\n",
            "<keras.layers.normalization.batch_normalization.BatchNormalization object at 0x7f657437f0d0> True\n",
            "<keras.layers.core.activation.Activation object at 0x7f65743091d0> True\n",
            "<keras.layers.convolutional.Conv2D object at 0x7f6574309950> True\n",
            "<keras.layers.normalization.batch_normalization.BatchNormalization object at 0x7f657430b910> True\n",
            "<keras.layers.core.activation.Activation object at 0x7f657431b250> True\n",
            "<keras.layers.convolutional.Conv2D object at 0x7f657431bd90> True\n",
            "<keras.layers.normalization.batch_normalization.BatchNormalization object at 0x7f6574320950> True\n",
            "<keras.layers.merge.Add object at 0x7f657432d290> True\n",
            "<keras.layers.core.activation.Activation object at 0x7f6574325b90> True\n",
            "<keras.layers.convolutional.Conv2D object at 0x7f657432e490> True\n",
            "<keras.layers.normalization.batch_normalization.BatchNormalization object at 0x7f6574335c10> True\n",
            "<keras.layers.core.activation.Activation object at 0x7f65742c4410> True\n",
            "<keras.layers.convolutional.Conv2D object at 0x7f6574339710> True\n",
            "<keras.layers.normalization.batch_normalization.BatchNormalization object at 0x7f65742cd490> True\n",
            "<keras.layers.core.activation.Activation object at 0x7f65742d6390> True\n",
            "<keras.layers.convolutional.Conv2D object at 0x7f6574339090> True\n",
            "<keras.layers.normalization.batch_normalization.BatchNormalization object at 0x7f65742df490> True\n",
            "<keras.layers.merge.Add object at 0x7f65742f2390> True\n",
            "<keras.layers.core.activation.Activation object at 0x7f65742f2e90> True\n",
            "<keras.layers.convolutional.Conv2D object at 0x7f65742f6490> True\n",
            "<keras.layers.normalization.batch_normalization.BatchNormalization object at 0x7f65742fd7d0> True\n",
            "<keras.layers.core.activation.Activation object at 0x7f65742fdb90> True\n",
            "<keras.layers.convolutional.Conv2D object at 0x7f65742f6210> True\n",
            "<keras.layers.normalization.batch_normalization.BatchNormalization object at 0x7f65742d6610> True\n",
            "<keras.layers.core.activation.Activation object at 0x7f6574325410> True\n",
            "<keras.layers.convolutional.Conv2D object at 0x7f657432d610> True\n",
            "<keras.layers.normalization.batch_normalization.BatchNormalization object at 0x7f6574317d90> True\n",
            "<keras.layers.merge.Add object at 0x7f65743700d0> True\n",
            "<keras.layers.core.activation.Activation object at 0x7f657436ded0> True\n",
            "<keras.layers.convolutional.Conv2D object at 0x7f656daeb890> True\n",
            "<keras.layers.normalization.batch_normalization.BatchNormalization object at 0x7f6574466d50> True\n",
            "<keras.layers.core.activation.Activation object at 0x7f65743ad7d0> True\n",
            "<keras.layers.convolutional.Conv2D object at 0x7f65743f54d0> True\n",
            "<keras.layers.normalization.batch_normalization.BatchNormalization object at 0x7f6574284bd0> True\n",
            "<keras.layers.core.activation.Activation object at 0x7f6574323550> True\n",
            "<keras.layers.convolutional.Conv2D object at 0x7f6574323b10> True\n",
            "<keras.layers.normalization.batch_normalization.BatchNormalization object at 0x7f6574323a90> True\n",
            "<keras.layers.merge.Add object at 0x7f657428ca90> True\n",
            "<keras.layers.core.activation.Activation object at 0x7f657428c390> True\n",
            "<keras.layers.convolutional.Conv2D object at 0x7f6574294390> True\n",
            "<keras.layers.normalization.batch_normalization.BatchNormalization object at 0x7f65742945d0> True\n",
            "<keras.layers.core.activation.Activation object at 0x7f65742a99d0> True\n",
            "<keras.layers.convolutional.Conv2D object at 0x7f65742a9bd0> True\n",
            "<keras.layers.normalization.batch_normalization.BatchNormalization object at 0x7f65742a9cd0> True\n",
            "<keras.layers.core.activation.Activation object at 0x7f65742aee50> True\n",
            "<keras.layers.convolutional.Conv2D object at 0x7f65742aed50> True\n",
            "<keras.layers.normalization.batch_normalization.BatchNormalization object at 0x7f65742bc110> True\n",
            "<keras.layers.merge.Add object at 0x7f657424e710> True\n",
            "<keras.layers.core.activation.Activation object at 0x7f65742b7590> True\n",
            "<keras.layers.convolutional.Conv2D object at 0x7f6574265050> True\n",
            "<keras.layers.normalization.batch_normalization.BatchNormalization object at 0x7f6574258fd0> True\n",
            "<keras.layers.core.activation.Activation object at 0x7f657426f410> True\n",
            "<keras.layers.convolutional.Conv2D object at 0x7f6574265f50> True\n",
            "<keras.layers.normalization.batch_normalization.BatchNormalization object at 0x7f657425e1d0> True\n",
            "<keras.layers.core.activation.Activation object at 0x7f657425e450> True\n",
            "<keras.layers.convolutional.Conv2D object at 0x7f657424eb50> True\n",
            "<keras.layers.convolutional.Conv2D object at 0x7f657425e250> True\n",
            "<keras.layers.normalization.batch_normalization.BatchNormalization object at 0x7f6574253e10> True\n",
            "<keras.layers.normalization.batch_normalization.BatchNormalization object at 0x7f6574281250> True\n",
            "<keras.layers.merge.Add object at 0x7f657420d050> True\n",
            "<keras.layers.core.activation.Activation object at 0x7f657420df90> True\n",
            "<keras.layers.convolutional.Conv2D object at 0x7f6574214990> True\n",
            "<keras.layers.normalization.batch_normalization.BatchNormalization object at 0x7f657421ecd0> True\n",
            "<keras.layers.core.activation.Activation object at 0x7f657427b910> True\n",
            "<keras.layers.convolutional.Conv2D object at 0x7f657421e2d0> True\n",
            "<keras.layers.normalization.batch_normalization.BatchNormalization object at 0x7f65742767d0> True\n",
            "<keras.layers.core.activation.Activation object at 0x7f6574265f90> True\n",
            "<keras.layers.convolutional.Conv2D object at 0x7f657425e7d0> True\n",
            "<keras.layers.normalization.batch_normalization.BatchNormalization object at 0x7f657429e8d0> True\n",
            "<keras.layers.merge.Add object at 0x7f65742ae2d0> True\n",
            "<keras.layers.core.activation.Activation object at 0x7f65742b72d0> True\n",
            "<keras.layers.convolutional.Conv2D object at 0x7f65742c1950> True\n",
            "<keras.layers.normalization.batch_normalization.BatchNormalization object at 0x7f657435ad10> True\n",
            "<keras.layers.core.activation.Activation object at 0x7f65743984d0> True\n",
            "<keras.layers.convolutional.Conv2D object at 0x7f6574401910> True\n",
            "<keras.layers.normalization.batch_normalization.BatchNormalization object at 0x7f65743b7cd0> True\n",
            "<keras.layers.core.activation.Activation object at 0x7f65742cd950> True\n",
            "<keras.layers.convolutional.Conv2D object at 0x7f65742e4f50> True\n",
            "<keras.layers.normalization.batch_normalization.BatchNormalization object at 0x7f657435e990> True\n",
            "<keras.layers.merge.Add object at 0x7f6574226a50> True\n",
            "<keras.layers.core.activation.Activation object at 0x7f6574377b90> True\n",
            "<keras.layers.pooling.GlobalMaxPooling2D object at 0x7f65743b8190> True\n",
            "Epoch 1/20\n",
            "1/1 [==============================] - 39s 39s/step - loss: 2.7832 - accuracy: 0.5769 - val_loss: 24.9060 - val_accuracy: 0.5000\n",
            "Epoch 2/20\n"
          ]
        },
        {
          "output_type": "error",
          "ename": "KeyboardInterrupt",
          "evalue": "ignored",
          "traceback": [
            "\u001b[0;31m---------------------------------------------------------------------------\u001b[0m",
            "\u001b[0;31mKeyboardInterrupt\u001b[0m                         Traceback (most recent call last)",
            "\u001b[0;32m<ipython-input-43-05cb4f9b7afb>\u001b[0m in \u001b[0;36m<module>\u001b[0;34m()\u001b[0m\n\u001b[1;32m     26\u001b[0m                 loss='BinaryCrossentropy',metrics=['accuracy'])\n\u001b[1;32m     27\u001b[0m \u001b[0;34m\u001b[0m\u001b[0m\n\u001b[0;32m---> 28\u001b[0;31m \u001b[0mresult_res101\u001b[0m\u001b[0;34m=\u001b[0m\u001b[0mmodel_res101\u001b[0m\u001b[0;34m.\u001b[0m\u001b[0mfit\u001b[0m\u001b[0;34m(\u001b[0m\u001b[0mtrain_dataset\u001b[0m\u001b[0;34m,\u001b[0m\u001b[0mvalidation_data\u001b[0m\u001b[0;34m=\u001b[0m\u001b[0mValid_dataset\u001b[0m\u001b[0;34m,\u001b[0m\u001b[0mepochs\u001b[0m\u001b[0;34m=\u001b[0m\u001b[0;36m20\u001b[0m\u001b[0;34m)\u001b[0m\u001b[0;34m\u001b[0m\u001b[0;34m\u001b[0m\u001b[0m\n\u001b[0m",
            "\u001b[0;32m/usr/local/lib/python3.7/dist-packages/keras/utils/traceback_utils.py\u001b[0m in \u001b[0;36merror_handler\u001b[0;34m(*args, **kwargs)\u001b[0m\n\u001b[1;32m     62\u001b[0m     \u001b[0mfiltered_tb\u001b[0m \u001b[0;34m=\u001b[0m \u001b[0;32mNone\u001b[0m\u001b[0;34m\u001b[0m\u001b[0;34m\u001b[0m\u001b[0m\n\u001b[1;32m     63\u001b[0m     \u001b[0;32mtry\u001b[0m\u001b[0;34m:\u001b[0m\u001b[0;34m\u001b[0m\u001b[0;34m\u001b[0m\u001b[0m\n\u001b[0;32m---> 64\u001b[0;31m       \u001b[0;32mreturn\u001b[0m \u001b[0mfn\u001b[0m\u001b[0;34m(\u001b[0m\u001b[0;34m*\u001b[0m\u001b[0margs\u001b[0m\u001b[0;34m,\u001b[0m \u001b[0;34m**\u001b[0m\u001b[0mkwargs\u001b[0m\u001b[0;34m)\u001b[0m\u001b[0;34m\u001b[0m\u001b[0;34m\u001b[0m\u001b[0m\n\u001b[0m\u001b[1;32m     65\u001b[0m     \u001b[0;32mexcept\u001b[0m \u001b[0mException\u001b[0m \u001b[0;32mas\u001b[0m \u001b[0me\u001b[0m\u001b[0;34m:\u001b[0m  \u001b[0;31m# pylint: disable=broad-except\u001b[0m\u001b[0;34m\u001b[0m\u001b[0;34m\u001b[0m\u001b[0m\n\u001b[1;32m     66\u001b[0m       \u001b[0mfiltered_tb\u001b[0m \u001b[0;34m=\u001b[0m \u001b[0m_process_traceback_frames\u001b[0m\u001b[0;34m(\u001b[0m\u001b[0me\u001b[0m\u001b[0;34m.\u001b[0m\u001b[0m__traceback__\u001b[0m\u001b[0;34m)\u001b[0m\u001b[0;34m\u001b[0m\u001b[0;34m\u001b[0m\u001b[0m\n",
            "\u001b[0;32m/usr/local/lib/python3.7/dist-packages/keras/engine/training.py\u001b[0m in \u001b[0;36mfit\u001b[0;34m(self, x, y, batch_size, epochs, verbose, callbacks, validation_split, validation_data, shuffle, class_weight, sample_weight, initial_epoch, steps_per_epoch, validation_steps, validation_batch_size, validation_freq, max_queue_size, workers, use_multiprocessing)\u001b[0m\n\u001b[1;32m   1382\u001b[0m                 _r=1):\n\u001b[1;32m   1383\u001b[0m               \u001b[0mcallbacks\u001b[0m\u001b[0;34m.\u001b[0m\u001b[0mon_train_batch_begin\u001b[0m\u001b[0;34m(\u001b[0m\u001b[0mstep\u001b[0m\u001b[0;34m)\u001b[0m\u001b[0;34m\u001b[0m\u001b[0;34m\u001b[0m\u001b[0m\n\u001b[0;32m-> 1384\u001b[0;31m               \u001b[0mtmp_logs\u001b[0m \u001b[0;34m=\u001b[0m \u001b[0mself\u001b[0m\u001b[0;34m.\u001b[0m\u001b[0mtrain_function\u001b[0m\u001b[0;34m(\u001b[0m\u001b[0miterator\u001b[0m\u001b[0;34m)\u001b[0m\u001b[0;34m\u001b[0m\u001b[0;34m\u001b[0m\u001b[0m\n\u001b[0m\u001b[1;32m   1385\u001b[0m               \u001b[0;32mif\u001b[0m \u001b[0mdata_handler\u001b[0m\u001b[0;34m.\u001b[0m\u001b[0mshould_sync\u001b[0m\u001b[0;34m:\u001b[0m\u001b[0;34m\u001b[0m\u001b[0;34m\u001b[0m\u001b[0m\n\u001b[1;32m   1386\u001b[0m                 \u001b[0mcontext\u001b[0m\u001b[0;34m.\u001b[0m\u001b[0masync_wait\u001b[0m\u001b[0;34m(\u001b[0m\u001b[0;34m)\u001b[0m\u001b[0;34m\u001b[0m\u001b[0;34m\u001b[0m\u001b[0m\n",
            "\u001b[0;32m/usr/local/lib/python3.7/dist-packages/tensorflow/python/util/traceback_utils.py\u001b[0m in \u001b[0;36merror_handler\u001b[0;34m(*args, **kwargs)\u001b[0m\n\u001b[1;32m    148\u001b[0m     \u001b[0mfiltered_tb\u001b[0m \u001b[0;34m=\u001b[0m \u001b[0;32mNone\u001b[0m\u001b[0;34m\u001b[0m\u001b[0;34m\u001b[0m\u001b[0m\n\u001b[1;32m    149\u001b[0m     \u001b[0;32mtry\u001b[0m\u001b[0;34m:\u001b[0m\u001b[0;34m\u001b[0m\u001b[0;34m\u001b[0m\u001b[0m\n\u001b[0;32m--> 150\u001b[0;31m       \u001b[0;32mreturn\u001b[0m \u001b[0mfn\u001b[0m\u001b[0;34m(\u001b[0m\u001b[0;34m*\u001b[0m\u001b[0margs\u001b[0m\u001b[0;34m,\u001b[0m \u001b[0;34m**\u001b[0m\u001b[0mkwargs\u001b[0m\u001b[0;34m)\u001b[0m\u001b[0;34m\u001b[0m\u001b[0;34m\u001b[0m\u001b[0m\n\u001b[0m\u001b[1;32m    151\u001b[0m     \u001b[0;32mexcept\u001b[0m \u001b[0mException\u001b[0m \u001b[0;32mas\u001b[0m \u001b[0me\u001b[0m\u001b[0;34m:\u001b[0m\u001b[0;34m\u001b[0m\u001b[0;34m\u001b[0m\u001b[0m\n\u001b[1;32m    152\u001b[0m       \u001b[0mfiltered_tb\u001b[0m \u001b[0;34m=\u001b[0m \u001b[0m_process_traceback_frames\u001b[0m\u001b[0;34m(\u001b[0m\u001b[0me\u001b[0m\u001b[0;34m.\u001b[0m\u001b[0m__traceback__\u001b[0m\u001b[0;34m)\u001b[0m\u001b[0;34m\u001b[0m\u001b[0;34m\u001b[0m\u001b[0m\n",
            "\u001b[0;32m/usr/local/lib/python3.7/dist-packages/tensorflow/python/eager/def_function.py\u001b[0m in \u001b[0;36m__call__\u001b[0;34m(self, *args, **kwds)\u001b[0m\n\u001b[1;32m    913\u001b[0m \u001b[0;34m\u001b[0m\u001b[0m\n\u001b[1;32m    914\u001b[0m       \u001b[0;32mwith\u001b[0m \u001b[0mOptionalXlaContext\u001b[0m\u001b[0;34m(\u001b[0m\u001b[0mself\u001b[0m\u001b[0;34m.\u001b[0m\u001b[0m_jit_compile\u001b[0m\u001b[0;34m)\u001b[0m\u001b[0;34m:\u001b[0m\u001b[0;34m\u001b[0m\u001b[0;34m\u001b[0m\u001b[0m\n\u001b[0;32m--> 915\u001b[0;31m         \u001b[0mresult\u001b[0m \u001b[0;34m=\u001b[0m \u001b[0mself\u001b[0m\u001b[0;34m.\u001b[0m\u001b[0m_call\u001b[0m\u001b[0;34m(\u001b[0m\u001b[0;34m*\u001b[0m\u001b[0margs\u001b[0m\u001b[0;34m,\u001b[0m \u001b[0;34m**\u001b[0m\u001b[0mkwds\u001b[0m\u001b[0;34m)\u001b[0m\u001b[0;34m\u001b[0m\u001b[0;34m\u001b[0m\u001b[0m\n\u001b[0m\u001b[1;32m    916\u001b[0m \u001b[0;34m\u001b[0m\u001b[0m\n\u001b[1;32m    917\u001b[0m       \u001b[0mnew_tracing_count\u001b[0m \u001b[0;34m=\u001b[0m \u001b[0mself\u001b[0m\u001b[0;34m.\u001b[0m\u001b[0mexperimental_get_tracing_count\u001b[0m\u001b[0;34m(\u001b[0m\u001b[0;34m)\u001b[0m\u001b[0;34m\u001b[0m\u001b[0;34m\u001b[0m\u001b[0m\n",
            "\u001b[0;32m/usr/local/lib/python3.7/dist-packages/tensorflow/python/eager/def_function.py\u001b[0m in \u001b[0;36m_call\u001b[0;34m(self, *args, **kwds)\u001b[0m\n\u001b[1;32m    945\u001b[0m       \u001b[0;31m# In this case we have created variables on the first call, so we run the\u001b[0m\u001b[0;34m\u001b[0m\u001b[0;34m\u001b[0m\u001b[0;34m\u001b[0m\u001b[0m\n\u001b[1;32m    946\u001b[0m       \u001b[0;31m# defunned version which is guaranteed to never create variables.\u001b[0m\u001b[0;34m\u001b[0m\u001b[0;34m\u001b[0m\u001b[0;34m\u001b[0m\u001b[0m\n\u001b[0;32m--> 947\u001b[0;31m       \u001b[0;32mreturn\u001b[0m \u001b[0mself\u001b[0m\u001b[0;34m.\u001b[0m\u001b[0m_stateless_fn\u001b[0m\u001b[0;34m(\u001b[0m\u001b[0;34m*\u001b[0m\u001b[0margs\u001b[0m\u001b[0;34m,\u001b[0m \u001b[0;34m**\u001b[0m\u001b[0mkwds\u001b[0m\u001b[0;34m)\u001b[0m  \u001b[0;31m# pylint: disable=not-callable\u001b[0m\u001b[0;34m\u001b[0m\u001b[0;34m\u001b[0m\u001b[0m\n\u001b[0m\u001b[1;32m    948\u001b[0m     \u001b[0;32melif\u001b[0m \u001b[0mself\u001b[0m\u001b[0;34m.\u001b[0m\u001b[0m_stateful_fn\u001b[0m \u001b[0;32mis\u001b[0m \u001b[0;32mnot\u001b[0m \u001b[0;32mNone\u001b[0m\u001b[0;34m:\u001b[0m\u001b[0;34m\u001b[0m\u001b[0;34m\u001b[0m\u001b[0m\n\u001b[1;32m    949\u001b[0m       \u001b[0;31m# Release the lock early so that multiple threads can perform the call\u001b[0m\u001b[0;34m\u001b[0m\u001b[0;34m\u001b[0m\u001b[0;34m\u001b[0m\u001b[0m\n",
            "\u001b[0;32m/usr/local/lib/python3.7/dist-packages/tensorflow/python/eager/function.py\u001b[0m in \u001b[0;36m__call__\u001b[0;34m(self, *args, **kwargs)\u001b[0m\n\u001b[1;32m   2955\u001b[0m        filtered_flat_args) = self._maybe_define_function(args, kwargs)\n\u001b[1;32m   2956\u001b[0m     return graph_function._call_flat(\n\u001b[0;32m-> 2957\u001b[0;31m         filtered_flat_args, captured_inputs=graph_function.captured_inputs)  # pylint: disable=protected-access\n\u001b[0m\u001b[1;32m   2958\u001b[0m \u001b[0;34m\u001b[0m\u001b[0m\n\u001b[1;32m   2959\u001b[0m   \u001b[0;34m@\u001b[0m\u001b[0mproperty\u001b[0m\u001b[0;34m\u001b[0m\u001b[0;34m\u001b[0m\u001b[0m\n",
            "\u001b[0;32m/usr/local/lib/python3.7/dist-packages/tensorflow/python/eager/function.py\u001b[0m in \u001b[0;36m_call_flat\u001b[0;34m(self, args, captured_inputs, cancellation_manager)\u001b[0m\n\u001b[1;32m   1852\u001b[0m       \u001b[0;31m# No tape is watching; skip to running the function.\u001b[0m\u001b[0;34m\u001b[0m\u001b[0;34m\u001b[0m\u001b[0;34m\u001b[0m\u001b[0m\n\u001b[1;32m   1853\u001b[0m       return self._build_call_outputs(self._inference_function.call(\n\u001b[0;32m-> 1854\u001b[0;31m           ctx, args, cancellation_manager=cancellation_manager))\n\u001b[0m\u001b[1;32m   1855\u001b[0m     forward_backward = self._select_forward_and_backward_functions(\n\u001b[1;32m   1856\u001b[0m         \u001b[0margs\u001b[0m\u001b[0;34m,\u001b[0m\u001b[0;34m\u001b[0m\u001b[0;34m\u001b[0m\u001b[0m\n",
            "\u001b[0;32m/usr/local/lib/python3.7/dist-packages/tensorflow/python/eager/function.py\u001b[0m in \u001b[0;36mcall\u001b[0;34m(self, ctx, args, cancellation_manager)\u001b[0m\n\u001b[1;32m    502\u001b[0m               \u001b[0minputs\u001b[0m\u001b[0;34m=\u001b[0m\u001b[0margs\u001b[0m\u001b[0;34m,\u001b[0m\u001b[0;34m\u001b[0m\u001b[0;34m\u001b[0m\u001b[0m\n\u001b[1;32m    503\u001b[0m               \u001b[0mattrs\u001b[0m\u001b[0;34m=\u001b[0m\u001b[0mattrs\u001b[0m\u001b[0;34m,\u001b[0m\u001b[0;34m\u001b[0m\u001b[0;34m\u001b[0m\u001b[0m\n\u001b[0;32m--> 504\u001b[0;31m               ctx=ctx)\n\u001b[0m\u001b[1;32m    505\u001b[0m         \u001b[0;32melse\u001b[0m\u001b[0;34m:\u001b[0m\u001b[0;34m\u001b[0m\u001b[0;34m\u001b[0m\u001b[0m\n\u001b[1;32m    506\u001b[0m           outputs = execute.execute_with_cancellation(\n",
            "\u001b[0;32m/usr/local/lib/python3.7/dist-packages/tensorflow/python/eager/execute.py\u001b[0m in \u001b[0;36mquick_execute\u001b[0;34m(op_name, num_outputs, inputs, attrs, ctx, name)\u001b[0m\n\u001b[1;32m     53\u001b[0m     \u001b[0mctx\u001b[0m\u001b[0;34m.\u001b[0m\u001b[0mensure_initialized\u001b[0m\u001b[0;34m(\u001b[0m\u001b[0;34m)\u001b[0m\u001b[0;34m\u001b[0m\u001b[0;34m\u001b[0m\u001b[0m\n\u001b[1;32m     54\u001b[0m     tensors = pywrap_tfe.TFE_Py_Execute(ctx._handle, device_name, op_name,\n\u001b[0;32m---> 55\u001b[0;31m                                         inputs, attrs, num_outputs)\n\u001b[0m\u001b[1;32m     56\u001b[0m   \u001b[0;32mexcept\u001b[0m \u001b[0mcore\u001b[0m\u001b[0;34m.\u001b[0m\u001b[0m_NotOkStatusException\u001b[0m \u001b[0;32mas\u001b[0m \u001b[0me\u001b[0m\u001b[0;34m:\u001b[0m\u001b[0;34m\u001b[0m\u001b[0;34m\u001b[0m\u001b[0m\n\u001b[1;32m     57\u001b[0m     \u001b[0;32mif\u001b[0m \u001b[0mname\u001b[0m \u001b[0;32mis\u001b[0m \u001b[0;32mnot\u001b[0m \u001b[0;32mNone\u001b[0m\u001b[0;34m:\u001b[0m\u001b[0;34m\u001b[0m\u001b[0;34m\u001b[0m\u001b[0m\n",
            "\u001b[0;31mKeyboardInterrupt\u001b[0m: "
          ]
        }
      ]
    },
    {
      "cell_type": "code",
      "source": [
        "validation_generator = Valid.flow_from_directory(\"DEP_VALIDATION DATASET\",target_size=(200,200))\n",
        "Y_pred = model_res101.predict_generator(validation_generator)\n",
        "ytrue = np.argmax(Y_pred, axis=1).tolist()\n",
        "ytrue"
      ],
      "metadata": {
        "colab": {
          "base_uri": "https://localhost:8080/"
        },
        "id": "pUpLZVBDcaOJ",
        "outputId": "577cf40f-1495-4f4f-87fc-2d9ca2d8d193"
      },
      "execution_count": null,
      "outputs": [
        {
          "output_type": "stream",
          "name": "stdout",
          "text": [
            "Found 5 images belonging to 2 classes.\n"
          ]
        },
        {
          "output_type": "stream",
          "name": "stderr",
          "text": [
            "/usr/local/lib/python3.7/dist-packages/ipykernel_launcher.py:2: UserWarning: `Model.predict_generator` is deprecated and will be removed in a future version. Please use `Model.predict`, which supports generators.\n",
            "  \n"
          ]
        },
        {
          "output_type": "execute_result",
          "data": {
            "text/plain": [
              "[0, 0, 0, 0, 0]"
            ]
          },
          "metadata": {},
          "execution_count": 19
        }
      ]
    },
    {
      "cell_type": "code",
      "source": [
        "from sklearn.metrics import confusion_matrix\n",
        "from sklearn.metrics import accuracy_score\n",
        "#print('Confusion Matrix')\n",
        "print(confusion_matrix(validation_generator.classes, ytrue))\n",
        "accuracy_score(validation_generator.classes, ytrue)"
      ],
      "metadata": {
        "colab": {
          "base_uri": "https://localhost:8080/"
        },
        "id": "kS451mI_cehS",
        "outputId": "db482329-ea51-4a55-9106-74d393cd577c"
      },
      "execution_count": null,
      "outputs": [
        {
          "output_type": "stream",
          "name": "stdout",
          "text": [
            "[[2 0]\n",
            " [3 0]]\n"
          ]
        },
        {
          "output_type": "execute_result",
          "data": {
            "text/plain": [
              "0.4"
            ]
          },
          "metadata": {},
          "execution_count": 20
        }
      ]
    },
    {
      "cell_type": "code",
      "source": [
        "import matplotlib.pyplot as plt\n",
        "plt.figure(figsize=(6,6)) \n",
        "loss1=result_res101.history['loss']\n",
        "val_loss1=result_res101.history['val_loss']\n",
        "epochs=range(1,len(loss1)+1)\n",
        "plt.plot(epochs,loss1,label='loss')\n",
        "plt.plot(epochs,val_loss1,label='val_loss')\n",
        "plt.legend()"
      ],
      "metadata": {
        "colab": {
          "base_uri": "https://localhost:8080/",
          "height": 392
        },
        "id": "bPNZzlSTDPKH",
        "outputId": "855e4327-dfe9-4db2-a80f-3a5656abc410"
      },
      "execution_count": null,
      "outputs": [
        {
          "output_type": "execute_result",
          "data": {
            "text/plain": [
              "<matplotlib.legend.Legend at 0x7fa379dd0750>"
            ]
          },
          "metadata": {},
          "execution_count": 10
        },
        {
          "output_type": "display_data",
          "data": {
            "image/png": "[encoded data removed]",
            "text/plain": [
              "<Figure size 432x432 with 1 Axes>"
            ]
          },
          "metadata": {
            "needs_background": "light"
          }
        }
      ]
    },
    {
      "cell_type": "markdown",
      "source": [
        "**VGG**"
      ],
      "metadata": {
        "id": "dhSjjjo0D50l"
      }
    },
    {
      "cell_type": "code",
      "source": [
        "from tensorflow import keras\n",
        "vgg_layers=keras.applications.vgg19.VGG19(weights='imagenet',include_top=False,input_shape=(200,200,3))\n",
        "\n",
        "vgg_layers.summary()\n",
        "from tensorflow.keras.callbacks import EarlyStopping\n",
        "callback=EarlyStopping(monitor='val_loss',patience=2,restore_best_weights=True)\n",
        "\n",
        "for layer in vgg_layers.layers:\n",
        "  layer.trainable=True\n",
        "\n",
        "for layer in vgg_layers.layers:\n",
        "  print(layer,layer.trainable)\n",
        " \n",
        " \n",
        "model_vgg=keras.models.Sequential()\n",
        "model_vgg.add(vgg_layers)\n",
        "model_vgg.add(keras.layers.Flatten())\n",
        "model_vgg.add(keras.layers.Dense(1024,activation='relu'))\n",
        "model_vgg.add(keras.layers.Dropout(0.3))\n",
        "model_vgg.add(keras.layers.Dense(768,activation='relu'))\n",
        "model_vgg.add(keras.layers.Dropout(0.3))\n",
        "model_vgg.add(keras.layers.Dense(256,activation='relu'))\n",
        "model_vgg.add(keras.layers.Dropout(0.3))\n",
        "model_vgg.add(keras.layers.Dense(2,activation='softmax'))\n",
        "\n",
        "\n",
        "model_vgg.compile(optimizer=RMSprop(learning_rate= 0.001),\n",
        "                loss='categorical_crossentropy',metrics=['accuracy'])\n",
        " \n",
        "result=model_vgg.fit(train_dataset,validation_data=Valid_dataset,epochs=20)"
      ],
      "metadata": {
        "id": "W5KuMc-EELkL",
        "colab": {
          "base_uri": "https://localhost:8080/"
        },
        "outputId": "7e5758aa-c6a4-4f70-dd19-9edf73476228"
      },
      "execution_count": null,
      "outputs": [
        {
          "output_type": "stream",
          "name": "stdout",
          "text": [
            "Downloading data from https://storage.googleapis.com/tensorflow/keras-applications/vgg19/vgg19_weights_tf_dim_ordering_tf_kernels_notop.h5\n",
            "80142336/80134624 [==============================] - 1s 0us/step\n",
            "80150528/80134624 [==============================] - 1s 0us/step\n",
            "Model: \"vgg19\"\n",
            "_________________________________________________________________\n",
            " Layer (type)                Output Shape              Param #   \n",
            "=================================================================\n",
            " input_3 (InputLayer)        [(None, 200, 200, 3)]     0         \n",
            "                                                                 \n",
            " block1_conv1 (Conv2D)       (None, 200, 200, 64)      1792      \n",
            "                                                                 \n",
            " block1_conv2 (Conv2D)       (None, 200, 200, 64)      36928     \n",
            "                                                                 \n",
            " block1_pool (MaxPooling2D)  (None, 100, 100, 64)      0         \n",
            "                                                                 \n",
            " block2_conv1 (Conv2D)       (None, 100, 100, 128)     73856     \n",
            "                                                                 \n",
            " block2_conv2 (Conv2D)       (None, 100, 100, 128)     147584    \n",
            "                                                                 \n",
            " block2_pool (MaxPooling2D)  (None, 50, 50, 128)       0         \n",
            "                                                                 \n",
            " block3_conv1 (Conv2D)       (None, 50, 50, 256)       295168    \n",
            "                                                                 \n",
            " block3_conv2 (Conv2D)       (None, 50, 50, 256)       590080    \n",
            "                                                                 \n",
            " block3_conv3 (Conv2D)       (None, 50, 50, 256)       590080    \n",
            "                                                                 \n",
            " block3_conv4 (Conv2D)       (None, 50, 50, 256)       590080    \n",
            "                                                                 \n",
            " block3_pool (MaxPooling2D)  (None, 25, 25, 256)       0         \n",
            "                                                                 \n",
            " block4_conv1 (Conv2D)       (None, 25, 25, 512)       1180160   \n",
            "                                                                 \n",
            " block4_conv2 (Conv2D)       (None, 25, 25, 512)       2359808   \n",
            "                                                                 \n",
            " block4_conv3 (Conv2D)       (None, 25, 25, 512)       2359808   \n",
            "                                                                 \n",
            " block4_conv4 (Conv2D)       (None, 25, 25, 512)       2359808   \n",
            "                                                                 \n",
            " block4_pool (MaxPooling2D)  (None, 12, 12, 512)       0         \n",
            "                                                                 \n",
            " block5_conv1 (Conv2D)       (None, 12, 12, 512)       2359808   \n",
            "                                                                 \n",
            " block5_conv2 (Conv2D)       (None, 12, 12, 512)       2359808   \n",
            "                                                                 \n",
            " block5_conv3 (Conv2D)       (None, 12, 12, 512)       2359808   \n",
            "                                                                 \n",
            " block5_conv4 (Conv2D)       (None, 12, 12, 512)       2359808   \n",
            "                                                                 \n",
            " block5_pool (MaxPooling2D)  (None, 6, 6, 512)         0         \n",
            "                                                                 \n",
            "=================================================================\n",
            "Total params: 20,024,384\n",
            "Trainable params: 20,024,384\n",
            "Non-trainable params: 0\n",
            "_________________________________________________________________\n",
            "<keras.engine.input_layer.InputLayer object at 0x7f656df1a990> True\n",
            "<keras.layers.convolutional.Conv2D object at 0x7f656db78c50> True\n",
            "<keras.layers.convolutional.Conv2D object at 0x7f656dbef710> True\n",
            "<keras.layers.pooling.MaxPooling2D object at 0x7f656db82a90> True\n",
            "<keras.layers.convolutional.Conv2D object at 0x7f656db80cd0> True\n",
            "<keras.layers.convolutional.Conv2D object at 0x7f656db8cbd0> True\n",
            "<keras.layers.pooling.MaxPooling2D object at 0x7f656db7ca50> True\n",
            "<keras.layers.convolutional.Conv2D object at 0x7f656dd21850> True\n",
            "<keras.layers.convolutional.Conv2D object at 0x7f656db9c490> True\n",
            "<keras.layers.convolutional.Conv2D object at 0x7f656db933d0> True\n",
            "<keras.layers.convolutional.Conv2D object at 0x7f656dba3690> True\n",
            "<keras.layers.pooling.MaxPooling2D object at 0x7f656dbb2210> True\n",
            "<keras.layers.convolutional.Conv2D object at 0x7f656dbab9d0> True\n",
            "<keras.layers.convolutional.Conv2D object at 0x7f656dbef110> True\n",
            "<keras.layers.convolutional.Conv2D object at 0x7f656db40390> True\n",
            "<keras.layers.convolutional.Conv2D object at 0x7f656db40f90> True\n",
            "<keras.layers.pooling.MaxPooling2D object at 0x7f656db39510> True\n",
            "<keras.layers.convolutional.Conv2D object at 0x7f656db494d0> True\n",
            "<keras.layers.convolutional.Conv2D object at 0x7f656db53150> True\n",
            "<keras.layers.convolutional.Conv2D object at 0x7f656db49f50> True\n",
            "<keras.layers.convolutional.Conv2D object at 0x7f656dba9550> True\n",
            "<keras.layers.pooling.MaxPooling2D object at 0x7f6573ee35d0> True\n",
            "Epoch 1/20\n",
            "1/1 [==============================] - 64s 64s/step - loss: 0.9584 - accuracy: 0.5385 - val_loss: 2453243.7500 - val_accuracy: 0.5000\n",
            "Epoch 2/20\n",
            "1/1 [==============================] - 60s 60s/step - loss: 2448245.7500 - accuracy: 0.5000 - val_loss: 807.6393 - val_accuracy: 0.5000\n",
            "Epoch 3/20\n",
            "1/1 [==============================] - 60s 60s/step - loss: 925.9552 - accuracy: 0.5000 - val_loss: 8.1359 - val_accuracy: 0.5000\n",
            "Epoch 4/20\n",
            "1/1 [==============================] - 61s 61s/step - loss: 8.8280 - accuracy: 0.5000 - val_loss: 1.7428 - val_accuracy: 0.5000\n",
            "Epoch 5/20\n",
            "1/1 [==============================] - 59s 59s/step - loss: 2.7267 - accuracy: 0.3462 - val_loss: 32.4662 - val_accuracy: 0.5000\n",
            "Epoch 6/20\n",
            "1/1 [==============================] - 59s 59s/step - loss: 32.8112 - accuracy: 0.5000 - val_loss: 0.7229 - val_accuracy: 0.5000\n",
            "Epoch 7/20\n",
            "1/1 [==============================] - 59s 59s/step - loss: 0.7589 - accuracy: 0.5000 - val_loss: 0.6944 - val_accuracy: 0.5000\n",
            "Epoch 8/20\n",
            "1/1 [==============================] - 59s 59s/step - loss: 0.7351 - accuracy: 0.4231 - val_loss: 0.6941 - val_accuracy: 0.5000\n",
            "Epoch 9/20\n",
            "1/1 [==============================] - 59s 59s/step - loss: 0.6898 - accuracy: 0.5769 - val_loss: 1.9887 - val_accuracy: 0.5000\n",
            "Epoch 10/20\n",
            "1/1 [==============================] - 59s 59s/step - loss: 2.5547 - accuracy: 0.5000 - val_loss: 0.7031 - val_accuracy: 0.5000\n",
            "Epoch 11/20\n",
            "1/1 [==============================] - 59s 59s/step - loss: 0.6976 - accuracy: 0.5385 - val_loss: 0.7415 - val_accuracy: 0.5000\n",
            "Epoch 12/20\n",
            "1/1 [==============================] - 59s 59s/step - loss: 0.8259 - accuracy: 0.5385 - val_loss: 0.7187 - val_accuracy: 0.5000\n",
            "Epoch 13/20\n",
            "1/1 [==============================] - 60s 60s/step - loss: 0.7217 - accuracy: 0.4615 - val_loss: 1.0196 - val_accuracy: 0.5000\n",
            "Epoch 14/20\n",
            "1/1 [==============================] - 59s 59s/step - loss: 1.2640 - accuracy: 0.4615 - val_loss: 4.2418 - val_accuracy: 0.5000\n",
            "Epoch 15/20\n",
            "1/1 [==============================] - 59s 59s/step - loss: 3.8350 - accuracy: 0.5000 - val_loss: 8.4004 - val_accuracy: 0.5000\n",
            "Epoch 16/20\n",
            "1/1 [==============================] - 60s 60s/step - loss: 8.9119 - accuracy: 0.5000 - val_loss: 1.5221 - val_accuracy: 0.5000\n",
            "Epoch 17/20\n",
            "1/1 [==============================] - 59s 59s/step - loss: 1.8661 - accuracy: 0.5385 - val_loss: 3.4076 - val_accuracy: 0.5000\n",
            "Epoch 18/20\n",
            "1/1 [==============================] - 59s 59s/step - loss: 2.9881 - accuracy: 0.5000 - val_loss: 0.6951 - val_accuracy: 0.5000\n",
            "Epoch 19/20\n",
            "1/1 [==============================] - 59s 59s/step - loss: 0.6628 - accuracy: 0.7692 - val_loss: 0.6921 - val_accuracy: 0.5000\n",
            "Epoch 20/20\n",
            "1/1 [==============================] - 59s 59s/step - loss: 0.8539 - accuracy: 0.5769 - val_loss: 0.7002 - val_accuracy: 0.5000\n"
          ]
        }
      ]
    },
    {
      "cell_type": "code",
      "source": [
        "validation_generator = Valid.flow_from_directory(\"DEP_VALIDATION DATASET\",target_size=(200,200))\n",
        "Y_pred = model_res101.predict_generator(validation_generator)\n",
        "ytrue = np.argmax(Y_pred, axis=1).tolist()\n",
        "ytrue"
      ],
      "metadata": {
        "colab": {
          "base_uri": "https://localhost:8080/"
        },
        "id": "PrhTDOe6f6nl",
        "outputId": "99966658-2086-4a0e-d74e-f463ce777309"
      },
      "execution_count": null,
      "outputs": [
        {
          "output_type": "stream",
          "name": "stdout",
          "text": [
            "Found 12 images belonging to 2 classes.\n"
          ]
        },
        {
          "output_type": "stream",
          "name": "stderr",
          "text": [
            "/usr/local/lib/python3.7/dist-packages/ipykernel_launcher.py:2: UserWarning: `Model.predict_generator` is deprecated and will be removed in a future version. Please use `Model.predict`, which supports generators.\n",
            "  \n"
          ]
        },
        {
          "output_type": "execute_result",
          "data": {
            "text/plain": [
              "[0, 0, 0, 0, 0, 0, 0, 0, 0, 0, 0, 0]"
            ]
          },
          "metadata": {},
          "execution_count": 45
        }
      ]
    },
    {
      "cell_type": "code",
      "source": [
        "from sklearn.metrics import confusion_matrix\n",
        "from sklearn.metrics import accuracy_score\n",
        "#print('Confusion Matrix')\n",
        "print(confusion_matrix(validation_generator.classes, ytrue))\n",
        "accuracy_score(validation_generator.classes, ytrue)"
      ],
      "metadata": {
        "colab": {
          "base_uri": "https://localhost:8080/"
        },
        "id": "eivMVdw1f-X9",
        "outputId": "243c23e8-687f-4db1-cadb-18dd370adce7"
      },
      "execution_count": null,
      "outputs": [
        {
          "output_type": "stream",
          "name": "stdout",
          "text": [
            "[[6 0]\n",
            " [6 0]]\n"
          ]
        },
        {
          "output_type": "execute_result",
          "data": {
            "text/plain": [
              "0.5"
            ]
          },
          "metadata": {},
          "execution_count": 46
        }
      ]
    },
    {
      "cell_type": "code",
      "source": [
        "model=tf.keras.models.Sequential([tf.keras.layers.Conv2D(32,(3,3),activation='relu',input_shape=(200,200,3)),\n",
        "                                  tf.keras.layers.MaxPool2D(2,2),\n",
        "\n",
        "                                  #tf.keras.layers.Conv2D(32,(3,3),activation='relu'),\n",
        "                                  #tf.keras.layers.MaxPool2D(2,2),\n",
        "                                  \n",
        "                                  tf.keras.layers.Conv2D(64,(3,3),activation='relu'),\n",
        "                                  tf.keras.layers.MaxPool2D(2,2),\n",
        "\n",
        "                                  #tf.keras.layers.Conv2D(64,(3,3),activation='relu'),\n",
        "                                  #tf.keras.layers.MaxPool2D(2,2),\n",
        "                                  \n",
        "\n",
        "                                  tf.keras.layers.Flatten(),\n",
        "                                  tf.keras.layers.Dense(64,activation='relu'),\n",
        "                                  tf.keras.layers.Dense(2,activation='softmax')])\n",
        "\n",
        "model.compile(optimizer=RMSprop(learning_rate=0.001)\n",
        "    ,loss='BinaryCrossentropy',metrics=['accuracy'])"
      ],
      "metadata": {
        "id": "g0Sku5IcnlW7"
      },
      "execution_count": null,
      "outputs": []
    },
    {
      "cell_type": "code",
      "source": [
        "history=model.fit(train_dataset,epochs=20,validation_data=Valid_dataset)"
      ],
      "metadata": {
        "colab": {
          "base_uri": "https://localhost:8080/"
        },
        "id": "6gwvghFHojq2",
        "outputId": "db884004-980f-411f-d397-9663e919be54"
      },
      "execution_count": null,
      "outputs": [
        {
          "output_type": "stream",
          "name": "stdout",
          "text": [
            "Epoch 1/20\n",
            "1/1 [==============================] - 8s 8s/step - loss: 0.7020 - accuracy: 0.5000 - val_loss: 29.3421 - val_accuracy: 0.5000\n",
            "Epoch 2/20\n",
            "1/1 [==============================] - 5s 5s/step - loss: 29.2511 - accuracy: 0.5000 - val_loss: 4.4214 - val_accuracy: 0.5000\n",
            "Epoch 3/20\n",
            "1/1 [==============================] - 5s 5s/step - loss: 4.4163 - accuracy: 0.5000 - val_loss: 3.4022 - val_accuracy: 0.5000\n",
            "Epoch 4/20\n",
            "1/1 [==============================] - 5s 5s/step - loss: 3.3973 - accuracy: 0.5000 - val_loss: 0.8893 - val_accuracy: 0.5000\n",
            "Epoch 5/20\n",
            "1/1 [==============================] - 5s 5s/step - loss: 0.8873 - accuracy: 0.5000 - val_loss: 1.0096 - val_accuracy: 0.5000\n",
            "Epoch 6/20\n",
            "1/1 [==============================] - 5s 5s/step - loss: 1.0078 - accuracy: 0.5000 - val_loss: 0.7261 - val_accuracy: 0.5000\n",
            "Epoch 7/20\n",
            "1/1 [==============================] - 5s 5s/step - loss: 0.7234 - accuracy: 0.5000 - val_loss: 1.5061 - val_accuracy: 0.5000\n",
            "Epoch 8/20\n",
            "1/1 [==============================] - 5s 5s/step - loss: 1.4946 - accuracy: 0.5000 - val_loss: 0.7254 - val_accuracy: 0.5000\n",
            "Epoch 9/20\n",
            "1/1 [==============================] - 5s 5s/step - loss: 0.7238 - accuracy: 0.5000 - val_loss: 0.8666 - val_accuracy: 0.5000\n",
            "Epoch 10/20\n",
            "1/1 [==============================] - 5s 5s/step - loss: 0.8619 - accuracy: 0.5000 - val_loss: 0.7082 - val_accuracy: 0.5000\n",
            "Epoch 11/20\n",
            "1/1 [==============================] - 5s 5s/step - loss: 0.7071 - accuracy: 0.5000 - val_loss: 0.6941 - val_accuracy: 0.5000\n",
            "Epoch 12/20\n",
            "1/1 [==============================] - 5s 5s/step - loss: 0.6914 - accuracy: 0.5000 - val_loss: 0.6899 - val_accuracy: 0.5000\n",
            "Epoch 13/20\n",
            "1/1 [==============================] - 5s 5s/step - loss: 0.6865 - accuracy: 0.5000 - val_loss: 0.6875 - val_accuracy: 0.5000\n",
            "Epoch 14/20\n",
            "1/1 [==============================] - 5s 5s/step - loss: 0.6832 - accuracy: 0.6154 - val_loss: 0.6856 - val_accuracy: 0.9167\n",
            "Epoch 15/20\n",
            "1/1 [==============================] - 5s 5s/step - loss: 0.6798 - accuracy: 1.0000 - val_loss: 0.6835 - val_accuracy: 0.7500\n",
            "Epoch 16/20\n",
            "1/1 [==============================] - 5s 5s/step - loss: 0.6758 - accuracy: 1.0000 - val_loss: 0.6806 - val_accuracy: 0.8333\n",
            "Epoch 17/20\n",
            "1/1 [==============================] - 5s 5s/step - loss: 0.6708 - accuracy: 1.0000 - val_loss: 0.6776 - val_accuracy: 0.9167\n",
            "Epoch 18/20\n",
            "1/1 [==============================] - 5s 5s/step - loss: 0.6661 - accuracy: 1.0000 - val_loss: 0.6738 - val_accuracy: 0.7500\n",
            "Epoch 19/20\n",
            "1/1 [==============================] - 5s 5s/step - loss: 0.6604 - accuracy: 0.9615 - val_loss: 0.6723 - val_accuracy: 0.7500\n",
            "Epoch 20/20\n",
            "1/1 [==============================] - 5s 5s/step - loss: 0.6573 - accuracy: 0.8462 - val_loss: 0.6688 - val_accuracy: 0.7500\n"
          ]
        }
      ]
    },
    {
      "cell_type": "code",
      "source": [
        "plt.plot(history.history['accuracy'])\n",
        "plt.plot(history.history['val_accuracy'])\n",
        "plt.title('model accuracy')\n",
        "plt.ylabel('accuracy')\n",
        "plt.xlabel('epoch')\n",
        "plt.legend(['train', 'test'], loc='upper left')\n",
        "plt.show()"
      ],
      "metadata": {
        "colab": {
          "base_uri": "https://localhost:8080/",
          "height": 295
        },
        "id": "0gP2IHkSHlIy",
        "outputId": "3dbfe1bb-a9af-4e14-ad56-1f949f6aeb38"
      },
      "execution_count": null,
      "outputs": [
        {
          "output_type": "display_data",
          "data": {
            "text/plain": [
              "<Figure size 432x288 with 1 Axes>"
            ],
            "image/png": "[encoded data removed]"
          },
          "metadata": {
            "needs_background": "light"
          }
        }
      ]
    },
    {
      "cell_type": "code",
      "source": [
        "from sklearn.metrics import plot_confusion_matrix"
      ],
      "metadata": {
        "id": "9OIjeBpDPUD9"
      },
      "execution_count": null,
      "outputs": []
    },
    {
      "cell_type": "code",
      "source": [
        "\n",
        "validation_generator = Valid.flow_from_directory(\"DEP_VALIDATION DATASET\",target_size=(200,200))"
      ],
      "metadata": {
        "colab": {
          "base_uri": "https://localhost:8080/"
        },
        "id": "z7658Pn5QWfC",
        "outputId": "542e775c-18df-4fd6-ce55-534f4b2fa365"
      },
      "execution_count": null,
      "outputs": [
        {
          "output_type": "stream",
          "name": "stdout",
          "text": [
            "Found 12 images belonging to 2 classes.\n"
          ]
        }
      ]
    },
    {
      "cell_type": "code",
      "source": [
        "Y_pred = model.predict_generator(validation_generator)"
      ],
      "metadata": {
        "colab": {
          "base_uri": "https://localhost:8080/"
        },
        "id": "c7Le6p-gQiAI",
        "outputId": "fb1f389f-6741-4d59-dc8e-1e579ffd618c"
      },
      "execution_count": null,
      "outputs": [
        {
          "output_type": "stream",
          "name": "stderr",
          "text": [
            "/usr/local/lib/python3.7/dist-packages/ipykernel_launcher.py:1: UserWarning: `Model.predict_generator` is deprecated and will be removed in a future version. Please use `Model.predict`, which supports generators.\n",
            "  \"\"\"Entry point for launching an IPython kernel.\n"
          ]
        }
      ]
    },
    {
      "cell_type": "code",
      "source": [
        "validation_generator.classes"
      ],
      "metadata": {
        "colab": {
          "base_uri": "https://localhost:8080/"
        },
        "id": "1IvnlD2LRJR0",
        "outputId": "d34e12e6-dd2e-4409-aea4-985e050ed1c1"
      },
      "execution_count": null,
      "outputs": [
        {
          "output_type": "execute_result",
          "data": {
            "text/plain": [
              "array([0, 0, 0, 0, 0, 0, 1, 1, 1, 1, 1, 1], dtype=int32)"
            ]
          },
          "metadata": {},
          "execution_count": 22
        }
      ]
    },
    {
      "cell_type": "code",
      "source": [
        "\n",
        "Y_pred"
      ],
      "metadata": {
        "colab": {
          "base_uri": "https://localhost:8080/"
        },
        "id": "mFCKDwiJRNr-",
        "outputId": "ee31201c-1ee4-4161-fc0e-1fa45d2fe0ce"
      },
      "execution_count": null,
      "outputs": [
        {
          "output_type": "execute_result",
          "data": {
            "text/plain": [
              "array([[0.47727278, 0.5227272 ],\n",
              "       [0.5191144 , 0.48088562],\n",
              "       [0.4907344 , 0.5092656 ],\n",
              "       [0.5204686 , 0.47953144],\n",
              "       [0.46304664, 0.53695333],\n",
              "       [0.43757504, 0.5624249 ],\n",
              "       [0.45535225, 0.5446478 ],\n",
              "       [0.5008619 , 0.49913812],\n",
              "       [0.46243745, 0.5375625 ],\n",
              "       [0.41029137, 0.58970857],\n",
              "       [0.43786275, 0.56213725],\n",
              "       [0.4534982 , 0.5465018 ]], dtype=float32)"
            ]
          },
          "metadata": {},
          "execution_count": 23
        }
      ]
    },
    {
      "cell_type": "code",
      "source": [
        "ytrue = np.argmax(Y_pred, axis=1).tolist()"
      ],
      "metadata": {
        "id": "M_GeSAkaS3hm"
      },
      "execution_count": null,
      "outputs": []
    },
    {
      "cell_type": "code",
      "source": [
        "ytrue"
      ],
      "metadata": {
        "colab": {
          "base_uri": "https://localhost:8080/"
        },
        "id": "k2Y2ChXLS8gl",
        "outputId": "7876749c-c49b-4273-b4df-943ed2d7be8e"
      },
      "execution_count": null,
      "outputs": [
        {
          "output_type": "execute_result",
          "data": {
            "text/plain": [
              "[1, 0, 1, 0, 1, 1, 1, 0, 1, 1, 1, 1]"
            ]
          },
          "metadata": {},
          "execution_count": 25
        }
      ]
    },
    {
      "cell_type": "code",
      "source": [
        "validation_generator.classes"
      ],
      "metadata": {
        "colab": {
          "base_uri": "https://localhost:8080/"
        },
        "id": "36-jcIYKTNWv",
        "outputId": "b5ef8a2f-e262-4a89-85a6-dbdb602faca7"
      },
      "execution_count": null,
      "outputs": [
        {
          "output_type": "execute_result",
          "data": {
            "text/plain": [
              "array([0, 0, 0, 0, 0, 0, 1, 1, 1, 1, 1, 1], dtype=int32)"
            ]
          },
          "metadata": {},
          "execution_count": 26
        }
      ]
    },
    {
      "cell_type": "code",
      "source": [
        "from sklearn.metrics import confusion_matrix\n",
        "from sklearn.metrics import accuracy_score\n",
        "#print('Confusion Matrix')\n",
        "print(confusion_matrix(validation_generator.classes, ytrue))\n",
        "accuracy_score(validation_generator.classes, ytrue)"
      ],
      "metadata": {
        "colab": {
          "base_uri": "https://localhost:8080/"
        },
        "id": "IWmtpD6QTBUY",
        "outputId": "28926eb0-3a7d-4aa3-af91-ebdd9ebb5dd7"
      },
      "execution_count": null,
      "outputs": [
        {
          "output_type": "stream",
          "name": "stdout",
          "text": [
            "[[2 4]\n",
            " [1 5]]\n"
          ]
        },
        {
          "output_type": "execute_result",
          "data": {
            "text/plain": [
              "0.5833333333333334"
            ]
          },
          "metadata": {},
          "execution_count": 27
        }
      ]
    },
    {
      "cell_type": "code",
      "source": [
        "def map(evl):\n",
        "  if(evl[0][0]>evl[0][1]):\n",
        "    ans='Condition'\n",
        "  else:\n",
        "    ans='Control'\n",
        "  print(ans)"
      ],
      "metadata": {
        "id": "Ch4C0cgZQ6UK"
      },
      "execution_count": null,
      "outputs": []
    },
    {
      "cell_type": "code",
      "source": [
        "from keras.preprocessing import image\n",
        "img3=image.load_img(\"/Users/ishaan/Datasets/OTHER_DATA/depression_NEW/DEP_TEST DATASET/CONDITION/cond19.png\",target_size=(200,200))\n",
        "x=image.img_to_array(img3)\n",
        "x = np.expand_dims(x, axis=0)\n",
        "evl=model.predict(x)\n",
        "evl"
      ],
      "metadata": {
        "id": "Y4WNmJJYp4Zc"
      },
      "execution_count": null,
      "outputs": []
    },
    {
      "cell_type": "code",
      "source": [
        "test_loss=[0.5,0.5,0.5,0.7]\n",
        "models=['LeNet','ResNet','VGG',\"Custom\"]\n",
        "plt.bar(models,test_loss)"
      ],
      "metadata": {
        "id": "GBfj6B4v7NjI",
        "colab": {
          "base_uri": "https://localhost:8080/",
          "height": 283
        },
        "outputId": "f66596e7-d08b-4e85-9eef-50a53a0dc7ea"
      },
      "execution_count": null,
      "outputs": [
        {
          "output_type": "execute_result",
          "data": {
            "text/plain": [
              "<BarContainer object of 4 artists>"
            ]
          },
          "metadata": {},
          "execution_count": 148
        },
        {
          "output_type": "display_data",
          "data": {
            "text/plain": [
              "<Figure size 432x288 with 1 Axes>"
            ],
            "image/png": "[encoded data removed]"
          },
          "metadata": {
            "needs_background": "light"
          }
        }
      ]
    },
    {
      "cell_type": "code",
      "source": [
        ""
      ],
      "metadata": {
        "id": "PlhhGks0v8xj"
      },
      "execution_count": null,
      "outputs": []
    }
  ]
}